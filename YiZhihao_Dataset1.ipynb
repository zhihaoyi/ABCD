{
 "cells": [
  {
   "cell_type": "markdown",
   "id": "e1c491be",
   "metadata": {},
   "source": [
    "# Library&Package Import"
   ]
  },
  {
   "cell_type": "code",
   "execution_count": 1,
   "id": "d36bdca5",
   "metadata": {},
   "outputs": [],
   "source": [
    "import pandas as pd\n",
    "import numpy as np\n",
    "import matplotlib.pyplot as plt\n",
    "import seaborn as sns\n",
    "from sklearn import preprocessing\n",
    "from sklearn.preprocessing import MinMaxScaler\n",
    "from sklearn.decomposition import PCA\n",
    "from sklearn.model_selection import train_test_split\n",
    "from sklearn.linear_model import LogisticRegression\n",
    "from sklearn.model_selection import GridSearchCV\n",
    "from sklearn.metrics import accuracy_score\n",
    "from sklearn.metrics import confusion_matrix, classification_report, roc_curve, auc\n",
    "from sklearn.neighbors import KNeighborsClassifier"
   ]
  },
  {
   "cell_type": "markdown",
   "id": "5c01c80c",
   "metadata": {},
   "source": [
    "# Brief Exploration of Each Dataset"
   ]
  },
  {
   "cell_type": "code",
   "execution_count": 2,
   "id": "14c8509e",
   "metadata": {
    "scrolled": false
   },
   "outputs": [
    {
     "data": {
      "text/html": [
       "<div>\n",
       "<style scoped>\n",
       "    .dataframe tbody tr th:only-of-type {\n",
       "        vertical-align: middle;\n",
       "    }\n",
       "\n",
       "    .dataframe tbody tr th {\n",
       "        vertical-align: top;\n",
       "    }\n",
       "\n",
       "    .dataframe thead th {\n",
       "        text-align: right;\n",
       "    }\n",
       "</style>\n",
       "<table border=\"1\" class=\"dataframe\">\n",
       "  <thead>\n",
       "    <tr style=\"text-align: right;\">\n",
       "      <th></th>\n",
       "      <th>Kingdom</th>\n",
       "      <th>DNAtype</th>\n",
       "      <th>SpeciesID</th>\n",
       "      <th>Ncodons</th>\n",
       "      <th>SpeciesName</th>\n",
       "      <th>UUU</th>\n",
       "      <th>UUC</th>\n",
       "      <th>UUA</th>\n",
       "      <th>UUG</th>\n",
       "      <th>CUU</th>\n",
       "      <th>...</th>\n",
       "      <th>CGG</th>\n",
       "      <th>AGA</th>\n",
       "      <th>AGG</th>\n",
       "      <th>GAU</th>\n",
       "      <th>GAC</th>\n",
       "      <th>GAA</th>\n",
       "      <th>GAG</th>\n",
       "      <th>UAA</th>\n",
       "      <th>UAG</th>\n",
       "      <th>UGA</th>\n",
       "    </tr>\n",
       "  </thead>\n",
       "  <tbody>\n",
       "    <tr>\n",
       "      <th>0</th>\n",
       "      <td>vrl</td>\n",
       "      <td>0</td>\n",
       "      <td>100217</td>\n",
       "      <td>1995</td>\n",
       "      <td>Epizootic haematopoietic necrosis virus</td>\n",
       "      <td>0.01654</td>\n",
       "      <td>0.01203</td>\n",
       "      <td>0.00050</td>\n",
       "      <td>0.00351</td>\n",
       "      <td>0.01203</td>\n",
       "      <td>...</td>\n",
       "      <td>0.00451</td>\n",
       "      <td>0.01303</td>\n",
       "      <td>0.03559</td>\n",
       "      <td>0.01003</td>\n",
       "      <td>0.04612</td>\n",
       "      <td>0.01203</td>\n",
       "      <td>0.04361</td>\n",
       "      <td>0.00251</td>\n",
       "      <td>0.00050</td>\n",
       "      <td>0.00000</td>\n",
       "    </tr>\n",
       "    <tr>\n",
       "      <th>1</th>\n",
       "      <td>vrl</td>\n",
       "      <td>0</td>\n",
       "      <td>100220</td>\n",
       "      <td>1474</td>\n",
       "      <td>Bohle iridovirus</td>\n",
       "      <td>0.02714</td>\n",
       "      <td>0.01357</td>\n",
       "      <td>0.00068</td>\n",
       "      <td>0.00678</td>\n",
       "      <td>0.00407</td>\n",
       "      <td>...</td>\n",
       "      <td>0.00136</td>\n",
       "      <td>0.01696</td>\n",
       "      <td>0.03596</td>\n",
       "      <td>0.01221</td>\n",
       "      <td>0.04545</td>\n",
       "      <td>0.01560</td>\n",
       "      <td>0.04410</td>\n",
       "      <td>0.00271</td>\n",
       "      <td>0.00068</td>\n",
       "      <td>0.00000</td>\n",
       "    </tr>\n",
       "    <tr>\n",
       "      <th>2</th>\n",
       "      <td>vrl</td>\n",
       "      <td>0</td>\n",
       "      <td>100755</td>\n",
       "      <td>4862</td>\n",
       "      <td>Sweet potato leaf curl virus</td>\n",
       "      <td>0.01974</td>\n",
       "      <td>0.0218</td>\n",
       "      <td>0.01357</td>\n",
       "      <td>0.01543</td>\n",
       "      <td>0.00782</td>\n",
       "      <td>...</td>\n",
       "      <td>0.00596</td>\n",
       "      <td>0.01974</td>\n",
       "      <td>0.02489</td>\n",
       "      <td>0.03126</td>\n",
       "      <td>0.02036</td>\n",
       "      <td>0.02242</td>\n",
       "      <td>0.02468</td>\n",
       "      <td>0.00391</td>\n",
       "      <td>0.00000</td>\n",
       "      <td>0.00144</td>\n",
       "    </tr>\n",
       "    <tr>\n",
       "      <th>3</th>\n",
       "      <td>vrl</td>\n",
       "      <td>0</td>\n",
       "      <td>100880</td>\n",
       "      <td>1915</td>\n",
       "      <td>Northern cereal mosaic virus</td>\n",
       "      <td>0.01775</td>\n",
       "      <td>0.02245</td>\n",
       "      <td>0.01619</td>\n",
       "      <td>0.00992</td>\n",
       "      <td>0.01567</td>\n",
       "      <td>...</td>\n",
       "      <td>0.00366</td>\n",
       "      <td>0.01410</td>\n",
       "      <td>0.01671</td>\n",
       "      <td>0.03760</td>\n",
       "      <td>0.01932</td>\n",
       "      <td>0.03029</td>\n",
       "      <td>0.03446</td>\n",
       "      <td>0.00261</td>\n",
       "      <td>0.00157</td>\n",
       "      <td>0.00000</td>\n",
       "    </tr>\n",
       "    <tr>\n",
       "      <th>4</th>\n",
       "      <td>vrl</td>\n",
       "      <td>0</td>\n",
       "      <td>100887</td>\n",
       "      <td>22831</td>\n",
       "      <td>Soil-borne cereal mosaic virus</td>\n",
       "      <td>0.02816</td>\n",
       "      <td>0.01371</td>\n",
       "      <td>0.00767</td>\n",
       "      <td>0.03679</td>\n",
       "      <td>0.01380</td>\n",
       "      <td>...</td>\n",
       "      <td>0.00604</td>\n",
       "      <td>0.01494</td>\n",
       "      <td>0.01734</td>\n",
       "      <td>0.04148</td>\n",
       "      <td>0.02483</td>\n",
       "      <td>0.03359</td>\n",
       "      <td>0.03679</td>\n",
       "      <td>0.00000</td>\n",
       "      <td>0.00044</td>\n",
       "      <td>0.00131</td>\n",
       "    </tr>\n",
       "    <tr>\n",
       "      <th>...</th>\n",
       "      <td>...</td>\n",
       "      <td>...</td>\n",
       "      <td>...</td>\n",
       "      <td>...</td>\n",
       "      <td>...</td>\n",
       "      <td>...</td>\n",
       "      <td>...</td>\n",
       "      <td>...</td>\n",
       "      <td>...</td>\n",
       "      <td>...</td>\n",
       "      <td>...</td>\n",
       "      <td>...</td>\n",
       "      <td>...</td>\n",
       "      <td>...</td>\n",
       "      <td>...</td>\n",
       "      <td>...</td>\n",
       "      <td>...</td>\n",
       "      <td>...</td>\n",
       "      <td>...</td>\n",
       "      <td>...</td>\n",
       "      <td>...</td>\n",
       "    </tr>\n",
       "    <tr>\n",
       "      <th>13023</th>\n",
       "      <td>pri</td>\n",
       "      <td>0</td>\n",
       "      <td>9601</td>\n",
       "      <td>1097</td>\n",
       "      <td>Pongo pygmaeus abelii</td>\n",
       "      <td>0.02552</td>\n",
       "      <td>0.03555</td>\n",
       "      <td>0.00547</td>\n",
       "      <td>0.01367</td>\n",
       "      <td>0.01276</td>\n",
       "      <td>...</td>\n",
       "      <td>0.00820</td>\n",
       "      <td>0.01367</td>\n",
       "      <td>0.01094</td>\n",
       "      <td>0.01367</td>\n",
       "      <td>0.02279</td>\n",
       "      <td>0.02005</td>\n",
       "      <td>0.04102</td>\n",
       "      <td>0.00091</td>\n",
       "      <td>0.00091</td>\n",
       "      <td>0.00638</td>\n",
       "    </tr>\n",
       "    <tr>\n",
       "      <th>13024</th>\n",
       "      <td>pri</td>\n",
       "      <td>1</td>\n",
       "      <td>9601</td>\n",
       "      <td>2067</td>\n",
       "      <td>mitochondrion Pongo pygmaeus abelii</td>\n",
       "      <td>0.01258</td>\n",
       "      <td>0.03193</td>\n",
       "      <td>0.01984</td>\n",
       "      <td>0.00629</td>\n",
       "      <td>0.01451</td>\n",
       "      <td>...</td>\n",
       "      <td>0.00145</td>\n",
       "      <td>0.00000</td>\n",
       "      <td>0.00048</td>\n",
       "      <td>0.00194</td>\n",
       "      <td>0.01306</td>\n",
       "      <td>0.01838</td>\n",
       "      <td>0.00677</td>\n",
       "      <td>0.00242</td>\n",
       "      <td>0.00097</td>\n",
       "      <td>0.01887</td>\n",
       "    </tr>\n",
       "    <tr>\n",
       "      <th>13025</th>\n",
       "      <td>pri</td>\n",
       "      <td>1</td>\n",
       "      <td>9602</td>\n",
       "      <td>1686</td>\n",
       "      <td>mitochondrion Pongo pygmaeus pygmaeus</td>\n",
       "      <td>0.01423</td>\n",
       "      <td>0.03321</td>\n",
       "      <td>0.01661</td>\n",
       "      <td>0.00356</td>\n",
       "      <td>0.01127</td>\n",
       "      <td>...</td>\n",
       "      <td>0.00000</td>\n",
       "      <td>0.00000</td>\n",
       "      <td>0.00000</td>\n",
       "      <td>0.00178</td>\n",
       "      <td>0.01661</td>\n",
       "      <td>0.02788</td>\n",
       "      <td>0.00297</td>\n",
       "      <td>0.00356</td>\n",
       "      <td>0.00119</td>\n",
       "      <td>0.02017</td>\n",
       "    </tr>\n",
       "    <tr>\n",
       "      <th>13026</th>\n",
       "      <td>pri</td>\n",
       "      <td>0</td>\n",
       "      <td>9606</td>\n",
       "      <td>40662582</td>\n",
       "      <td>Homo sapiens</td>\n",
       "      <td>0.01757</td>\n",
       "      <td>0.02028</td>\n",
       "      <td>0.00767</td>\n",
       "      <td>0.01293</td>\n",
       "      <td>0.01319</td>\n",
       "      <td>...</td>\n",
       "      <td>0.01142</td>\n",
       "      <td>0.01217</td>\n",
       "      <td>0.01196</td>\n",
       "      <td>0.02178</td>\n",
       "      <td>0.02510</td>\n",
       "      <td>0.02896</td>\n",
       "      <td>0.03959</td>\n",
       "      <td>0.00099</td>\n",
       "      <td>0.00079</td>\n",
       "      <td>0.00156</td>\n",
       "    </tr>\n",
       "    <tr>\n",
       "      <th>13027</th>\n",
       "      <td>pri</td>\n",
       "      <td>1</td>\n",
       "      <td>9606</td>\n",
       "      <td>8998998</td>\n",
       "      <td>mitochondrion Homo sapiens</td>\n",
       "      <td>0.01778</td>\n",
       "      <td>0.03724</td>\n",
       "      <td>0.01732</td>\n",
       "      <td>0.00600</td>\n",
       "      <td>0.01689</td>\n",
       "      <td>...</td>\n",
       "      <td>0.00083</td>\n",
       "      <td>0.00041</td>\n",
       "      <td>0.00041</td>\n",
       "      <td>0.00451</td>\n",
       "      <td>0.01402</td>\n",
       "      <td>0.01651</td>\n",
       "      <td>0.00783</td>\n",
       "      <td>0.00156</td>\n",
       "      <td>0.00114</td>\n",
       "      <td>0.02161</td>\n",
       "    </tr>\n",
       "  </tbody>\n",
       "</table>\n",
       "<p>13028 rows × 69 columns</p>\n",
       "</div>"
      ],
      "text/plain": [
       "      Kingdom  DNAtype  SpeciesID   Ncodons  \\\n",
       "0         vrl        0     100217      1995   \n",
       "1         vrl        0     100220      1474   \n",
       "2         vrl        0     100755      4862   \n",
       "3         vrl        0     100880      1915   \n",
       "4         vrl        0     100887     22831   \n",
       "...       ...      ...        ...       ...   \n",
       "13023     pri        0       9601      1097   \n",
       "13024     pri        1       9601      2067   \n",
       "13025     pri        1       9602      1686   \n",
       "13026     pri        0       9606  40662582   \n",
       "13027     pri        1       9606   8998998   \n",
       "\n",
       "                                   SpeciesName      UUU      UUC      UUA  \\\n",
       "0      Epizootic haematopoietic necrosis virus  0.01654  0.01203  0.00050   \n",
       "1                             Bohle iridovirus  0.02714  0.01357  0.00068   \n",
       "2                 Sweet potato leaf curl virus  0.01974   0.0218  0.01357   \n",
       "3                 Northern cereal mosaic virus  0.01775  0.02245  0.01619   \n",
       "4               Soil-borne cereal mosaic virus  0.02816  0.01371  0.00767   \n",
       "...                                        ...      ...      ...      ...   \n",
       "13023                    Pongo pygmaeus abelii  0.02552  0.03555  0.00547   \n",
       "13024      mitochondrion Pongo pygmaeus abelii  0.01258  0.03193  0.01984   \n",
       "13025    mitochondrion Pongo pygmaeus pygmaeus  0.01423  0.03321  0.01661   \n",
       "13026                             Homo sapiens  0.01757  0.02028  0.00767   \n",
       "13027               mitochondrion Homo sapiens  0.01778  0.03724  0.01732   \n",
       "\n",
       "           UUG      CUU  ...      CGG      AGA      AGG      GAU      GAC  \\\n",
       "0      0.00351  0.01203  ...  0.00451  0.01303  0.03559  0.01003  0.04612   \n",
       "1      0.00678  0.00407  ...  0.00136  0.01696  0.03596  0.01221  0.04545   \n",
       "2      0.01543  0.00782  ...  0.00596  0.01974  0.02489  0.03126  0.02036   \n",
       "3      0.00992  0.01567  ...  0.00366  0.01410  0.01671  0.03760  0.01932   \n",
       "4      0.03679  0.01380  ...  0.00604  0.01494  0.01734  0.04148  0.02483   \n",
       "...        ...      ...  ...      ...      ...      ...      ...      ...   \n",
       "13023  0.01367  0.01276  ...  0.00820  0.01367  0.01094  0.01367  0.02279   \n",
       "13024  0.00629  0.01451  ...  0.00145  0.00000  0.00048  0.00194  0.01306   \n",
       "13025  0.00356  0.01127  ...  0.00000  0.00000  0.00000  0.00178  0.01661   \n",
       "13026  0.01293  0.01319  ...  0.01142  0.01217  0.01196  0.02178  0.02510   \n",
       "13027  0.00600  0.01689  ...  0.00083  0.00041  0.00041  0.00451  0.01402   \n",
       "\n",
       "           GAA      GAG      UAA      UAG      UGA  \n",
       "0      0.01203  0.04361  0.00251  0.00050  0.00000  \n",
       "1      0.01560  0.04410  0.00271  0.00068  0.00000  \n",
       "2      0.02242  0.02468  0.00391  0.00000  0.00144  \n",
       "3      0.03029  0.03446  0.00261  0.00157  0.00000  \n",
       "4      0.03359  0.03679  0.00000  0.00044  0.00131  \n",
       "...        ...      ...      ...      ...      ...  \n",
       "13023  0.02005  0.04102  0.00091  0.00091  0.00638  \n",
       "13024  0.01838  0.00677  0.00242  0.00097  0.01887  \n",
       "13025  0.02788  0.00297  0.00356  0.00119  0.02017  \n",
       "13026  0.02896  0.03959  0.00099  0.00079  0.00156  \n",
       "13027  0.01651  0.00783  0.00156  0.00114  0.02161  \n",
       "\n",
       "[13028 rows x 69 columns]"
      ]
     },
     "execution_count": 2,
     "metadata": {},
     "output_type": "execute_result"
    }
   ],
   "source": [
    "dna_df = pd.read_excel(\"codon_usage.xlsx\")\n",
    "dna_df"
   ]
  },
  {
   "cell_type": "markdown",
   "id": "90fc1205",
   "metadata": {},
   "source": [
    "#### <span style=\"color: red\">As shown above, there are 13028 entries and 69 columns in this dataset. In other words, the dataset contains 1 output, and 68 raw features. And the 68 raw features contain two categorical variables \"Kingdom\" and \"SpeciesName\". \n",
    "\n",
    "#### <span style=\"color: red\">For classification, we will predict the output \"DNAtype\" by utilizing the 13028 samples and the rest of 68 features."
   ]
  },
  {
   "cell_type": "code",
   "execution_count": 3,
   "id": "91671ee7",
   "metadata": {
    "scrolled": false
   },
   "outputs": [
    {
     "data": {
      "text/plain": [
       "Text(0.5, 1.0, 'Relative frequency of each DNAtype')"
      ]
     },
     "execution_count": 3,
     "metadata": {},
     "output_type": "execute_result"
    },
    {
     "data": {
      "image/png": "[encoded data removed]",
      "text/plain": [
       "<Figure size 432x288 with 1 Axes>"
      ]
     },
     "metadata": {
      "needs_background": "light"
     },
     "output_type": "display_data"
    }
   ],
   "source": [
    "a = plt.hist(dna_df[\"DNAtype\"],density=True)\n",
    "plt.xlabel('DNAtype')\n",
    "plt.ylabel('Relative Frequency')\n",
    "plt.title('Relative frequency of each DNAtype')"
   ]
  },
  {
   "cell_type": "markdown",
   "id": "e637dcba",
   "metadata": {},
   "source": [
    "#### <span style=\"color: red\"> As the DNAtype histogram shown above, we can tell that most of the DNAtype fall into Type 0 and Type 1.\n",
    "    \n",
    "#### <span style=\"color: red\"> To approach the DNAtype distribution more intelligently, we will plot it  and compute the exact numbers of each Type as shown below."
   ]
  },
  {
   "cell_type": "code",
   "execution_count": 4,
   "id": "666cf534",
   "metadata": {},
   "outputs": [
    {
     "data": {
      "text/plain": [
       "Text(0.5, 1.0, 'Relative frequency of each DNAtype')"
      ]
     },
     "execution_count": 4,
     "metadata": {},
     "output_type": "execute_result"
    },
    {
     "data": {
      "image/png": "[encoded data removed]",
      "text/plain": [
       "<Figure size 432x288 with 1 Axes>"
      ]
     },
     "metadata": {
      "needs_background": "light"
     },
     "output_type": "display_data"
    }
   ],
   "source": [
    "a = plt.plot(dna_df[\"DNAtype\"],'+')\n",
    "plt.xlabel('Relative Frequency')\n",
    "plt.ylabel('DNAtype')\n",
    "plt.title('Relative frequency of each DNAtype')"
   ]
  },
  {
   "cell_type": "code",
   "execution_count": 5,
   "id": "bdb15080",
   "metadata": {},
   "outputs": [
    {
     "data": {
      "text/html": [
       "<div>\n",
       "<style scoped>\n",
       "    .dataframe tbody tr th:only-of-type {\n",
       "        vertical-align: middle;\n",
       "    }\n",
       "\n",
       "    .dataframe tbody tr th {\n",
       "        vertical-align: top;\n",
       "    }\n",
       "\n",
       "    .dataframe thead th {\n",
       "        text-align: right;\n",
       "    }\n",
       "</style>\n",
       "<table border=\"1\" class=\"dataframe\">\n",
       "  <thead>\n",
       "    <tr style=\"text-align: right;\">\n",
       "      <th></th>\n",
       "      <th>Type Count</th>\n",
       "    </tr>\n",
       "    <tr>\n",
       "      <th>DNAtype</th>\n",
       "      <th></th>\n",
       "    </tr>\n",
       "  </thead>\n",
       "  <tbody>\n",
       "    <tr>\n",
       "      <th>0</th>\n",
       "      <td>9267</td>\n",
       "    </tr>\n",
       "    <tr>\n",
       "      <th>1</th>\n",
       "      <td>2899</td>\n",
       "    </tr>\n",
       "    <tr>\n",
       "      <th>2</th>\n",
       "      <td>816</td>\n",
       "    </tr>\n",
       "    <tr>\n",
       "      <th>4</th>\n",
       "      <td>31</td>\n",
       "    </tr>\n",
       "    <tr>\n",
       "      <th>12</th>\n",
       "      <td>5</td>\n",
       "    </tr>\n",
       "    <tr>\n",
       "      <th>3</th>\n",
       "      <td>2</td>\n",
       "    </tr>\n",
       "    <tr>\n",
       "      <th>5</th>\n",
       "      <td>2</td>\n",
       "    </tr>\n",
       "    <tr>\n",
       "      <th>9</th>\n",
       "      <td>2</td>\n",
       "    </tr>\n",
       "    <tr>\n",
       "      <th>11</th>\n",
       "      <td>2</td>\n",
       "    </tr>\n",
       "    <tr>\n",
       "      <th>6</th>\n",
       "      <td>1</td>\n",
       "    </tr>\n",
       "    <tr>\n",
       "      <th>7</th>\n",
       "      <td>1</td>\n",
       "    </tr>\n",
       "  </tbody>\n",
       "</table>\n",
       "</div>"
      ],
      "text/plain": [
       "         Type Count\n",
       "DNAtype            \n",
       "0              9267\n",
       "1              2899\n",
       "2               816\n",
       "4                31\n",
       "12                5\n",
       "3                 2\n",
       "5                 2\n",
       "9                 2\n",
       "11                2\n",
       "6                 1\n",
       "7                 1"
      ]
     },
     "execution_count": 5,
     "metadata": {},
     "output_type": "execute_result"
    }
   ],
   "source": [
    "df = pd.DataFrame(dna_df[\"DNAtype\"])\n",
    "count = df.value_counts()\n",
    "count_dna_df = pd.DataFrame({'Type Count': count})\n",
    "count_dna_df"
   ]
  },
  {
   "cell_type": "markdown",
   "id": "b1d8e9cf",
   "metadata": {},
   "source": [
    "#### <span style=\"color: red\">  As shown above, we can tell that the majority of the samples fall in the Type 0, Type 1, and Type 2. There are only few samples belong to the rest Type."
   ]
  },
  {
   "cell_type": "code",
   "execution_count": 6,
   "id": "b6281545",
   "metadata": {
    "scrolled": false
   },
   "outputs": [
    {
     "data": {
      "text/plain": [
       "<AxesSubplot:>"
      ]
     },
     "execution_count": 6,
     "metadata": {},
     "output_type": "execute_result"
    },
    {
     "data": {
      "image/png": "[encoded data removed]",
      "text/plain": [
       "<Figure size 720x720 with 2 Axes>"
      ]
     },
     "metadata": {
      "needs_background": "light"
     },
     "output_type": "display_data"
    }
   ],
   "source": [
    "corr = dna_df.corr()\n",
    "corr_dna_df = pd.DataFrame({'Correlation': corr['DNAtype']})\n",
    "plt.figure(figsize=(10,10))\n",
    "sns.heatmap(corr_dna_df,annot=True)"
   ]
  },
  {
   "cell_type": "markdown",
   "id": "e2ce250e",
   "metadata": {},
   "source": [
    "#### <span style=\"color: red\">  As the correlation heapmap show above, we can tell that each feature has different degree of influence on predicting the DNAtype."
   ]
  },
  {
   "cell_type": "markdown",
   "id": "b2d5473e",
   "metadata": {},
   "source": [
    "# Pre-Processing the Dataset"
   ]
  },
  {
   "cell_type": "code",
   "execution_count": 7,
   "id": "fffcea2a",
   "metadata": {},
   "outputs": [
    {
     "name": "stdout",
     "output_type": "stream",
     "text": [
      "             missing_rate\n",
      "Kingdom               0.0\n",
      "DNAtype               0.0\n",
      "SpeciesID             0.0\n",
      "Ncodons               0.0\n",
      "SpeciesName           0.0\n",
      "...                   ...\n",
      "GAA                   0.0\n",
      "GAG                   0.0\n",
      "UAA                   0.0\n",
      "UAG                   0.0\n",
      "UGA                   0.0\n",
      "\n",
      "[69 rows x 1 columns]\n",
      "       missing_rate\n",
      "count          69.0\n",
      "mean            0.0\n",
      "std             0.0\n",
      "min             0.0\n",
      "25%             0.0\n",
      "50%             0.0\n",
      "75%             0.0\n",
      "max             0.0\n"
     ]
    }
   ],
   "source": [
    "missing_rate = dna_df.isnull().sum() * 100 / len(dna_df)\n",
    "missing_rate_dna_df = pd.DataFrame({'missing_rate': missing_rate})\n",
    "print(missing_rate_dna_df)\n",
    "print(missing_rate_dna_df.describe())"
   ]
  },
  {
   "cell_type": "markdown",
   "id": "9d568d09",
   "metadata": {},
   "source": [
    "#### <span style=\"color: red\">  As shown above, there is no missing values in the dataset. Therefore, we do not need to replace or remove the invalid entries."
   ]
  },
  {
   "cell_type": "code",
   "execution_count": 8,
   "id": "b972bfbd",
   "metadata": {
    "scrolled": true
   },
   "outputs": [
    {
     "name": "stdout",
     "output_type": "stream",
     "text": [
      "<class 'pandas.core.frame.DataFrame'>\n",
      "RangeIndex: 13028 entries, 0 to 13027\n",
      "Data columns (total 69 columns):\n",
      " #   Column       Non-Null Count  Dtype  \n",
      "---  ------       --------------  -----  \n",
      " 0   Kingdom      13028 non-null  object \n",
      " 1   DNAtype      13028 non-null  int64  \n",
      " 2   SpeciesID    13028 non-null  int64  \n",
      " 3   Ncodons      13028 non-null  int64  \n",
      " 4   SpeciesName  13028 non-null  object \n",
      " 5   UUU          13028 non-null  object \n",
      " 6   UUC          13028 non-null  object \n",
      " 7   UUA          13028 non-null  float64\n",
      " 8   UUG          13028 non-null  float64\n",
      " 9   CUU          13028 non-null  float64\n",
      " 10  CUC          13028 non-null  float64\n",
      " 11  CUA          13028 non-null  float64\n",
      " 12  CUG          13028 non-null  float64\n",
      " 13  AUU          13028 non-null  float64\n",
      " 14  AUC          13028 non-null  float64\n",
      " 15  AUA          13028 non-null  float64\n",
      " 16  AUG          13028 non-null  float64\n",
      " 17  GUU          13028 non-null  float64\n",
      " 18  GUC          13028 non-null  float64\n",
      " 19  GUA          13028 non-null  float64\n",
      " 20  GUG          13028 non-null  float64\n",
      " 21  GCU          13028 non-null  float64\n",
      " 22  GCC          13028 non-null  float64\n",
      " 23  GCA          13028 non-null  float64\n",
      " 24  GCG          13028 non-null  float64\n",
      " 25  CCU          13028 non-null  float64\n",
      " 26  CCC          13028 non-null  float64\n",
      " 27  CCA          13028 non-null  float64\n",
      " 28  CCG          13028 non-null  float64\n",
      " 29  UGG          13028 non-null  float64\n",
      " 30  GGU          13028 non-null  float64\n",
      " 31  GGC          13028 non-null  float64\n",
      " 32  GGA          13028 non-null  float64\n",
      " 33  GGG          13028 non-null  float64\n",
      " 34  UCU          13028 non-null  float64\n",
      " 35  UCC          13028 non-null  float64\n",
      " 36  UCA          13028 non-null  float64\n",
      " 37  UCG          13028 non-null  float64\n",
      " 38  AGU          13028 non-null  float64\n",
      " 39  AGC          13028 non-null  float64\n",
      " 40  ACU          13028 non-null  float64\n",
      " 41  ACC          13028 non-null  float64\n",
      " 42  ACA          13028 non-null  float64\n",
      " 43  ACG          13028 non-null  float64\n",
      " 44  UAU          13028 non-null  float64\n",
      " 45  UAC          13028 non-null  float64\n",
      " 46  CAA          13028 non-null  float64\n",
      " 47  CAG          13028 non-null  float64\n",
      " 48  AAU          13028 non-null  float64\n",
      " 49  AAC          13028 non-null  float64\n",
      " 50  UGU          13028 non-null  float64\n",
      " 51  UGC          13028 non-null  float64\n",
      " 52  CAU          13028 non-null  float64\n",
      " 53  CAC          13028 non-null  float64\n",
      " 54  AAA          13028 non-null  float64\n",
      " 55  AAG          13028 non-null  float64\n",
      " 56  CGU          13028 non-null  float64\n",
      " 57  CGC          13028 non-null  float64\n",
      " 58  CGA          13028 non-null  float64\n",
      " 59  CGG          13028 non-null  float64\n",
      " 60  AGA          13028 non-null  float64\n",
      " 61  AGG          13028 non-null  float64\n",
      " 62  GAU          13028 non-null  float64\n",
      " 63  GAC          13028 non-null  float64\n",
      " 64  GAA          13028 non-null  float64\n",
      " 65  GAG          13028 non-null  float64\n",
      " 66  UAA          13028 non-null  float64\n",
      " 67  UAG          13028 non-null  float64\n",
      " 68  UGA          13028 non-null  float64\n",
      "dtypes: float64(62), int64(3), object(4)\n",
      "memory usage: 6.9+ MB\n"
     ]
    }
   ],
   "source": [
    "dna_df.info()"
   ]
  },
  {
   "cell_type": "markdown",
   "id": "9f101bca",
   "metadata": {},
   "source": [
    "#### <span style=\"color: red\">  We notice that \"SpeciesID\" and \"SpeciesName\" are just the unique variables that are computationally irrelevant in processing the dataset. So DELET them.\n",
    "#### <span style=\"color: red\">  \"UUU\" and \"UUC\" contain at least a non-int or non-float data type, so we have to find them out and DELET the corresponding samples. \"UUU\" and \"UUC\" are supposed to be in float data type as the rest of biological features are.\n",
    "#### <span style=\"color: red\">  \"Kingdom\" is in object data type which is needed to be converted into int type."
   ]
  },
  {
   "cell_type": "code",
   "execution_count": 9,
   "id": "12163775",
   "metadata": {},
   "outputs": [
    {
     "data": {
      "text/plain": [
       "(13028, 67)"
      ]
     },
     "execution_count": 9,
     "metadata": {},
     "output_type": "execute_result"
    }
   ],
   "source": [
    "dna_df_updated = dna_df\n",
    "dna_df_updated = dna_df.drop(columns=['SpeciesID','SpeciesName'])\n",
    "np.shape(dna_df_updated)"
   ]
  },
  {
   "cell_type": "markdown",
   "id": "cd936674",
   "metadata": {},
   "source": [
    "#### <span style=\"color: red\">  As shown above, 'SpeciesID' and 'SpeciesName' are removed. The features of dataset is reduced from 69 to 67."
   ]
  },
  {
   "cell_type": "code",
   "execution_count": 10,
   "id": "2aabe4c6",
   "metadata": {},
   "outputs": [
    {
     "name": "stdout",
     "output_type": "stream",
     "text": [
      "The index of the non-int or non-float entry:\n",
      "486\n",
      "The value of that entry:\n",
      "non-B hepatitis virus\n",
      "--------------------------------------------\n",
      "The index of the non-int or non-float entry:\n",
      "5063\n",
      "The value of that entry:\n",
      "12;I\n",
      "--------------------------------------------\n"
     ]
    }
   ],
   "source": [
    "x = 0\n",
    "for i in range(13028):\n",
    "    x = isinstance(dna_df_updated['UUU'][i],(int,float))\n",
    "    if x == False:\n",
    "        print(\"The index of the non-int or non-float entry:\")\n",
    "        print(i)\n",
    "        print(\"The value of that entry:\")\n",
    "        print(dna_df_updated['UUU'][i])\n",
    "        print(\"--------------------------------------------\")"
   ]
  },
  {
   "cell_type": "markdown",
   "id": "8b94a71b",
   "metadata": {},
   "source": [
    "#### <span style=\"color: red\">  As shown above, the indexs of the non-int or non-float entry in \"UUU\" are found."
   ]
  },
  {
   "cell_type": "code",
   "execution_count": 11,
   "id": "4490395c",
   "metadata": {},
   "outputs": [
    {
     "name": "stdout",
     "output_type": "stream",
     "text": [
      "The index of the non-int or non-float entry:\n",
      "5063\n",
      "The value of that entry:\n",
      "-\n",
      "--------------------------------------------\n"
     ]
    }
   ],
   "source": [
    "x = 0\n",
    "for i in range(13028):\n",
    "    x = isinstance(dna_df_updated['UUC'][i],(int,float))\n",
    "    if x == False:\n",
    "        print(\"The index of the non-int or non-float entry:\")\n",
    "        print(i)\n",
    "        print(\"The value of that entry:\")\n",
    "        print(dna_df_updated['UUC'][i])\n",
    "        print(\"--------------------------------------------\")"
   ]
  },
  {
   "cell_type": "markdown",
   "id": "9f842c4c",
   "metadata": {},
   "source": [
    "#### <span style=\"color: red\"> As shown above, the indexs of the non-int or non-float entry in \"UUC\" are found."
   ]
  },
  {
   "cell_type": "code",
   "execution_count": 12,
   "id": "fd0c2a74",
   "metadata": {
    "scrolled": false
   },
   "outputs": [
    {
     "data": {
      "text/plain": [
       "(13026, 67)"
      ]
     },
     "execution_count": 12,
     "metadata": {},
     "output_type": "execute_result"
    }
   ],
   "source": [
    "dna_df_updated1 = dna_df_updated\n",
    "dna_df_updated1 = dna_df_updated.drop(486)\n",
    "dna_df_updated2 = dna_df_updated1.drop(5063)\n",
    "dna_df_updated2['UUU'] = pd.to_numeric(dna_df_updated2['UUU'])\n",
    "dna_df_updated2['UUC'] = pd.to_numeric(dna_df_updated2['UUC'])\n",
    "dna_df_updated2.shape"
   ]
  },
  {
   "cell_type": "markdown",
   "id": "8f0d8db2",
   "metadata": {},
   "source": [
    "#### <span style=\"color: red\">  As shown above, the corresponding samples are removed from dataset. The number of samples is reduced from 13028 to 13026."
   ]
  },
  {
   "cell_type": "code",
   "execution_count": 13,
   "id": "cf409d6b",
   "metadata": {
    "scrolled": true
   },
   "outputs": [
    {
     "data": {
      "text/plain": [
       "0        9\n",
       "1        9\n",
       "2        9\n",
       "3        9\n",
       "4        9\n",
       "        ..\n",
       "13023    7\n",
       "13024    7\n",
       "13025    7\n",
       "13026    7\n",
       "13027    7\n",
       "Name: Kingdom, Length: 13026, dtype: int32"
      ]
     },
     "execution_count": 13,
     "metadata": {},
     "output_type": "execute_result"
    }
   ],
   "source": [
    "dna_df_updated2['Kingdom'] = preprocessing.LabelEncoder().fit_transform(dna_df_updated2['Kingdom'])\n",
    "corr_dna_df = pd.DataFrame({'Kingdom': dna_df_updated2['Kingdom']})\n",
    "dna_df_updated2['Kingdom']"
   ]
  },
  {
   "cell_type": "markdown",
   "id": "3f0fcc16",
   "metadata": {},
   "source": [
    "#### <span style=\"color: red\">  As shown above, the string types in \"Kingdom\" are converted into int types."
   ]
  },
  {
   "cell_type": "code",
   "execution_count": 14,
   "id": "0416f8f1",
   "metadata": {
    "scrolled": true
   },
   "outputs": [
    {
     "name": "stdout",
     "output_type": "stream",
     "text": [
      "<class 'pandas.core.frame.DataFrame'>\n",
      "Int64Index: 13026 entries, 0 to 13027\n",
      "Data columns (total 67 columns):\n",
      " #   Column   Non-Null Count  Dtype  \n",
      "---  ------   --------------  -----  \n",
      " 0   Kingdom  13026 non-null  int32  \n",
      " 1   DNAtype  13026 non-null  int64  \n",
      " 2   Ncodons  13026 non-null  int64  \n",
      " 3   UUU      13026 non-null  float64\n",
      " 4   UUC      13026 non-null  float64\n",
      " 5   UUA      13026 non-null  float64\n",
      " 6   UUG      13026 non-null  float64\n",
      " 7   CUU      13026 non-null  float64\n",
      " 8   CUC      13026 non-null  float64\n",
      " 9   CUA      13026 non-null  float64\n",
      " 10  CUG      13026 non-null  float64\n",
      " 11  AUU      13026 non-null  float64\n",
      " 12  AUC      13026 non-null  float64\n",
      " 13  AUA      13026 non-null  float64\n",
      " 14  AUG      13026 non-null  float64\n",
      " 15  GUU      13026 non-null  float64\n",
      " 16  GUC      13026 non-null  float64\n",
      " 17  GUA      13026 non-null  float64\n",
      " 18  GUG      13026 non-null  float64\n",
      " 19  GCU      13026 non-null  float64\n",
      " 20  GCC      13026 non-null  float64\n",
      " 21  GCA      13026 non-null  float64\n",
      " 22  GCG      13026 non-null  float64\n",
      " 23  CCU      13026 non-null  float64\n",
      " 24  CCC      13026 non-null  float64\n",
      " 25  CCA      13026 non-null  float64\n",
      " 26  CCG      13026 non-null  float64\n",
      " 27  UGG      13026 non-null  float64\n",
      " 28  GGU      13026 non-null  float64\n",
      " 29  GGC      13026 non-null  float64\n",
      " 30  GGA      13026 non-null  float64\n",
      " 31  GGG      13026 non-null  float64\n",
      " 32  UCU      13026 non-null  float64\n",
      " 33  UCC      13026 non-null  float64\n",
      " 34  UCA      13026 non-null  float64\n",
      " 35  UCG      13026 non-null  float64\n",
      " 36  AGU      13026 non-null  float64\n",
      " 37  AGC      13026 non-null  float64\n",
      " 38  ACU      13026 non-null  float64\n",
      " 39  ACC      13026 non-null  float64\n",
      " 40  ACA      13026 non-null  float64\n",
      " 41  ACG      13026 non-null  float64\n",
      " 42  UAU      13026 non-null  float64\n",
      " 43  UAC      13026 non-null  float64\n",
      " 44  CAA      13026 non-null  float64\n",
      " 45  CAG      13026 non-null  float64\n",
      " 46  AAU      13026 non-null  float64\n",
      " 47  AAC      13026 non-null  float64\n",
      " 48  UGU      13026 non-null  float64\n",
      " 49  UGC      13026 non-null  float64\n",
      " 50  CAU      13026 non-null  float64\n",
      " 51  CAC      13026 non-null  float64\n",
      " 52  AAA      13026 non-null  float64\n",
      " 53  AAG      13026 non-null  float64\n",
      " 54  CGU      13026 non-null  float64\n",
      " 55  CGC      13026 non-null  float64\n",
      " 56  CGA      13026 non-null  float64\n",
      " 57  CGG      13026 non-null  float64\n",
      " 58  AGA      13026 non-null  float64\n",
      " 59  AGG      13026 non-null  float64\n",
      " 60  GAU      13026 non-null  float64\n",
      " 61  GAC      13026 non-null  float64\n",
      " 62  GAA      13026 non-null  float64\n",
      " 63  GAG      13026 non-null  float64\n",
      " 64  UAA      13026 non-null  float64\n",
      " 65  UAG      13026 non-null  float64\n",
      " 66  UGA      13026 non-null  float64\n",
      "dtypes: float64(64), int32(1), int64(2)\n",
      "memory usage: 6.7 MB\n"
     ]
    }
   ],
   "source": [
    "dna_df_updated2.info()"
   ]
  },
  {
   "cell_type": "markdown",
   "id": "f1684ccd",
   "metadata": {},
   "source": [
    "#### <span style=\"color: red\">  As the updated dataset info shown above, the dataset is pre-processed where 2 computationally irrelevant features are removed, 2 invalid samples are found and removed, \"Kingdom\" are converted from str type to int type."
   ]
  },
  {
   "cell_type": "markdown",
   "id": "39009a56",
   "metadata": {},
   "source": [
    "# Feature Extraction"
   ]
  },
  {
   "cell_type": "markdown",
   "id": "b3bb6bff",
   "metadata": {},
   "source": [
    "## Normalization:"
   ]
  },
  {
   "cell_type": "code",
   "execution_count": 15,
   "id": "acbf60fb",
   "metadata": {},
   "outputs": [
    {
     "data": {
      "text/plain": [
       "array([[9.00000000e-01, 2.44702727e-05, 7.61159687e-02, ...,\n",
       "        5.55309735e-02, 1.95236236e-02, 0.00000000e+00],\n",
       "       [9.00000000e-01, 1.16571952e-05, 1.24896457e-01, ...,\n",
       "        5.99557522e-02, 2.65521281e-02, 0.00000000e+00],\n",
       "       [9.00000000e-01, 9.49790886e-05, 9.08421537e-02, ...,\n",
       "        8.65044248e-02, 0.00000000e+00, 1.34957826e-02],\n",
       "       ...,\n",
       "       [7.00000000e-01, 1.68709619e-05, 6.54855039e-02, ...,\n",
       "        7.87610619e-02, 4.64662241e-02, 1.89034677e-01],\n",
       "       [7.00000000e-01, 1.00000000e+00, 8.08559595e-02, ...,\n",
       "        2.19026549e-02, 3.08473253e-02, 1.46204311e-02],\n",
       "       [7.00000000e-01, 2.21289914e-01, 8.18223654e-02, ...,\n",
       "        3.45132743e-02, 4.45138618e-02, 2.02530459e-01]])"
      ]
     },
     "execution_count": 15,
     "metadata": {},
     "output_type": "execute_result"
    }
   ],
   "source": [
    "y = dna_df_updated2['DNAtype']\n",
    "x = dna_df_updated2.drop(columns=['DNAtype'])\n",
    "scaler = MinMaxScaler( )\n",
    "x_scaled = scaler.fit_transform(x)\n",
    "x_scaled"
   ]
  },
  {
   "cell_type": "markdown",
   "id": "e6253e2a",
   "metadata": {},
   "source": [
    "#### <span style=\"color: red\">  As shown above, we divide our dataframe into input x and output y. And we normalize the input x."
   ]
  },
  {
   "cell_type": "markdown",
   "id": "8eb615d4",
   "metadata": {},
   "source": [
    "## PCA:"
   ]
  },
  {
   "cell_type": "code",
   "execution_count": 16,
   "id": "e9e8bcb4",
   "metadata": {},
   "outputs": [
    {
     "data": {
      "text/plain": [
       "array([0.30626258, 0.21888372, 0.11783075, 0.04071515, 0.02956201,\n",
       "       0.02832973, 0.02117799, 0.01704333, 0.01630338, 0.0129433 ])"
      ]
     },
     "execution_count": 16,
     "metadata": {},
     "output_type": "execute_result"
    }
   ],
   "source": [
    "pca = PCA(n_components = 10)  \n",
    "x_scaled = pca.fit_transform(x_scaled) \n",
    "pca.explained_variance_ratio_"
   ]
  },
  {
   "cell_type": "markdown",
   "id": "6810d8ac",
   "metadata": {},
   "source": [
    "#### <span style=\"color: red\">  As shown above, we compute the percentages of variance explained for each principal component."
   ]
  },
  {
   "cell_type": "code",
   "execution_count": 17,
   "id": "08bf284f",
   "metadata": {},
   "outputs": [
    {
     "data": {
      "text/plain": [
       "Text(0.5, 1.0, 'Principal component V.S. Percentage of variance explained')"
      ]
     },
     "execution_count": 17,
     "metadata": {},
     "output_type": "execute_result"
    },
    {
     "data": {
      "image/png": "[encoded data removed]",
      "text/plain": [
       "<Figure size 432x288 with 1 Axes>"
      ]
     },
     "metadata": {
      "needs_background": "light"
     },
     "output_type": "display_data"
    }
   ],
   "source": [
    "plt.plot(range(1,11),pca.explained_variance_ratio_)\n",
    "plt.xlabel('Principal Component')\n",
    "plt.ylabel('Percentage of variance explained')\n",
    "plt.title('Principal component V.S. Percentage of variance explained')"
   ]
  },
  {
   "cell_type": "markdown",
   "id": "ecbe4790",
   "metadata": {},
   "source": [
    "#### <span style=\"color: red\">  As shown above, the first 4 principal components already contain the majoirty of information. To obtain even more information, we decide to have 10 principal components. In other words, the dimension of the dataset is reduced to 10D."
   ]
  },
  {
   "cell_type": "markdown",
   "id": "1527e1aa",
   "metadata": {},
   "source": [
    "## Cross-validation setup:"
   ]
  },
  {
   "cell_type": "code",
   "execution_count": 18,
   "id": "ee3df7f8",
   "metadata": {},
   "outputs": [
    {
     "name": "stdout",
     "output_type": "stream",
     "text": [
      "(10420, 10) (2606, 10) (10420,) (2606,)\n"
     ]
    }
   ],
   "source": [
    "x_train, x_test, y_train, y_test = train_test_split(x_scaled, y, test_size=0.20,random_state=20)\n",
    "print(x_train.shape, x_test.shape, y_train.shape, y_test.shape)"
   ]
  },
  {
   "cell_type": "markdown",
   "id": "7d3d86d4",
   "metadata": {},
   "source": [
    "#### <span style=\"color: red\">  The dataset is divided into the trainning set and testing set. And the cross-validation ration is 8:2."
   ]
  },
  {
   "cell_type": "markdown",
   "id": "4cb1acca",
   "metadata": {},
   "source": [
    "# First Classification Method: LogisticRegression"
   ]
  },
  {
   "cell_type": "code",
   "execution_count": 19,
   "id": "daaf59f3",
   "metadata": {},
   "outputs": [],
   "source": [
    "default = {\"penalty\":\"l2\"}\n",
    "LR_model = LogisticRegression(**default)\n",
    "LR_model.fit(x_train,y_train)\n",
    "y_pred = LR_model.predict(x_test)"
   ]
  },
  {
   "cell_type": "markdown",
   "id": "b363d077",
   "metadata": {},
   "source": [
    "#### <span style=\"color: red\">  As shown above, the parameters is setup and the predicted output y_pred is trained."
   ]
  },
  {
   "cell_type": "code",
   "execution_count": 20,
   "id": "c2c39da5",
   "metadata": {},
   "outputs": [
    {
     "name": "stdout",
     "output_type": "stream",
     "text": [
      "accuracy_score:  0.9811972371450499\n"
     ]
    }
   ],
   "source": [
    "acc = accuracy_score(y_test, y_pred)\n",
    "print(\"accuracy_score: \",acc)"
   ]
  },
  {
   "cell_type": "markdown",
   "id": "bba3ed1b",
   "metadata": {},
   "source": [
    "#### <span style=\"color: red\"> As shown above, we compute the scores of accuracy. And it has 98.1% scores which seem good in our model.\n",
    "\n",
    "#### <span style=\"color: red\">  To further investigate the performace of our model, we will visualize the performance as shown below."
   ]
  },
  {
   "cell_type": "code",
   "execution_count": 21,
   "id": "c4cfc038",
   "metadata": {
    "scrolled": false
   },
   "outputs": [
    {
     "data": {
      "text/plain": [
       "Text(0.5, 1.0, 'Confusion Matrix')"
      ]
     },
     "execution_count": 21,
     "metadata": {},
     "output_type": "execute_result"
    },
    {
     "data": {
      "image/png": "[encoded data removed]",
      "text/plain": [
       "<Figure size 720x720 with 2 Axes>"
      ]
     },
     "metadata": {
      "needs_background": "light"
     },
     "output_type": "display_data"
    }
   ],
   "source": [
    "plt.figure(figsize=(10,10))\n",
    "sns.heatmap(confusion_matrix(y_test, y_pred, normalize = 'true'),annot = True,cmap = 'Blues')\n",
    "plt.xlabel('Predicted Type')\n",
    "plt.ylabel('Actual Type')\n",
    "plt.title('Confusion Matrix')"
   ]
  },
  {
   "cell_type": "markdown",
   "id": "06607ebd",
   "metadata": {},
   "source": [
    "#### <span style=\"color: red\">  As the confusion matrix shown above, we can tell that the model have a fairly good accuracy in predicting Type 0, Type 1, and Type2. Nonetheless, the model fails to predct the rest of the DNAtype, and 83% of Type 3 are falsely label in Type 2."
   ]
  },
  {
   "cell_type": "code",
   "execution_count": 22,
   "id": "5f838171",
   "metadata": {},
   "outputs": [
    {
     "data": {
      "text/plain": [
       "0    1923\n",
       "1     527\n",
       "2     156\n",
       "dtype: int64"
      ]
     },
     "execution_count": 22,
     "metadata": {},
     "output_type": "execute_result"
    }
   ],
   "source": [
    "df = pd.DataFrame(y_pred)\n",
    "count1 = df.value_counts()\n",
    "count1"
   ]
  },
  {
   "cell_type": "code",
   "execution_count": 23,
   "id": "91b64606",
   "metadata": {
    "scrolled": true
   },
   "outputs": [
    {
     "data": {
      "text/plain": [
       "Text(0.5, 1.0, 'Frequency of each predicted type')"
      ]
     },
     "execution_count": 23,
     "metadata": {},
     "output_type": "execute_result"
    },
    {
     "data": {
      "image/png": "[encoded data removed]",
      "text/plain": [
       "<Figure size 432x288 with 1 Axes>"
      ]
     },
     "metadata": {
      "needs_background": "light"
     },
     "output_type": "display_data"
    }
   ],
   "source": [
    "plt.hist(y_pred)\n",
    "plt.xlim(-1,13)\n",
    "plt.xlabel('Predicted Type')\n",
    "plt.ylabel('Frequency')\n",
    "plt.title('Frequency of each predicted type')"
   ]
  },
  {
   "cell_type": "code",
   "execution_count": 24,
   "id": "668a5b8e",
   "metadata": {},
   "outputs": [
    {
     "data": {
      "text/plain": [
       "Text(0.5, 1.0, 'Relative frequency of each predicted DNAtype')"
      ]
     },
     "execution_count": 24,
     "metadata": {},
     "output_type": "execute_result"
    },
    {
     "data": {
      "image/png": "[encoded data removed]",
      "text/plain": [
       "<Figure size 432x288 with 1 Axes>"
      ]
     },
     "metadata": {
      "needs_background": "light"
     },
     "output_type": "display_data"
    }
   ],
   "source": [
    "plt.plot(y_pred,'+')\n",
    "plt.xlabel('Relative Frequency')\n",
    "plt.ylabel('DNAtype')\n",
    "plt.title('Relative frequency of each predicted DNAtype')"
   ]
  },
  {
   "cell_type": "markdown",
   "id": "d732b06d",
   "metadata": {},
   "source": [
    "#### <span style=\"color: red\">  As the visualizations shown above, the logistic regression method fails to predict the DNAtypes other than Type 0, Type 1, and Type 2, even though our model has an accuracy of 98.1%."
   ]
  },
  {
   "cell_type": "markdown",
   "id": "7f915b84",
   "metadata": {},
   "source": [
    "## Second Classification Method: KNN"
   ]
  },
  {
   "cell_type": "code",
   "execution_count": 25,
   "id": "67155e59",
   "metadata": {},
   "outputs": [],
   "source": [
    "default = {\"n_neighbors\":3}\n",
    "KNN_model = KNeighborsClassifier(**default)\n",
    "KNN_model.fit(x_train,y_train) \n",
    "y_pred1=KNN_model.predict(x_test)"
   ]
  },
  {
   "cell_type": "markdown",
   "id": "91948b75",
   "metadata": {},
   "source": [
    "#### <span style=\"color: red\">  As shown above, we set n_neighbors to 3, and the predicted output y_pred1 is trained."
   ]
  },
  {
   "cell_type": "code",
   "execution_count": 26,
   "id": "e94aee06",
   "metadata": {},
   "outputs": [
    {
     "name": "stdout",
     "output_type": "stream",
     "text": [
      "accuracy_score:  0.9919416730621642\n"
     ]
    }
   ],
   "source": [
    "acc1 = accuracy_score(y_test, y_pred1)\n",
    "print(\"accuracy_score: \",acc1)"
   ]
  },
  {
   "cell_type": "markdown",
   "id": "bb568fe3",
   "metadata": {},
   "source": [
    "#### <span style=\"color: red\"> As shown above, we compute the scores of accuracy. And it has the value of 99.2% which is better than logistic regression model. \n",
    "#### <span style=\"color: red\"> To further investigate the performace of our model, we will visualize the performance as shown below."
   ]
  },
  {
   "cell_type": "code",
   "execution_count": 27,
   "id": "683620ed",
   "metadata": {},
   "outputs": [
    {
     "data": {
      "text/plain": [
       "Text(0.5, 1.0, 'Confusion Matrix')"
      ]
     },
     "execution_count": 27,
     "metadata": {},
     "output_type": "execute_result"
    },
    {
     "data": {
      "image/png": "[encoded data removed]",
      "text/plain": [
       "<Figure size 720x720 with 2 Axes>"
      ]
     },
     "metadata": {
      "needs_background": "light"
     },
     "output_type": "display_data"
    }
   ],
   "source": [
    "plt.figure(figsize=(10,10))\n",
    "sns.heatmap(confusion_matrix(y_test, y_pred1, normalize = 'true'),annot = True,cmap = 'Blues')\n",
    "plt.xlabel('Predicted Type')\n",
    "plt.ylabel('Actual Type')\n",
    "plt.title('Confusion Matrix')"
   ]
  },
  {
   "cell_type": "code",
   "execution_count": 28,
   "id": "6b4ba5ae",
   "metadata": {},
   "outputs": [
    {
     "data": {
      "text/html": [
       "<div>\n",
       "<style scoped>\n",
       "    .dataframe tbody tr th:only-of-type {\n",
       "        vertical-align: middle;\n",
       "    }\n",
       "\n",
       "    .dataframe tbody tr th {\n",
       "        vertical-align: top;\n",
       "    }\n",
       "\n",
       "    .dataframe thead th {\n",
       "        text-align: right;\n",
       "    }\n",
       "</style>\n",
       "<table border=\"1\" class=\"dataframe\">\n",
       "  <thead>\n",
       "    <tr style=\"text-align: right;\">\n",
       "      <th></th>\n",
       "      <th>Type Count</th>\n",
       "    </tr>\n",
       "    <tr>\n",
       "      <th>0</th>\n",
       "      <th></th>\n",
       "    </tr>\n",
       "  </thead>\n",
       "  <tbody>\n",
       "    <tr>\n",
       "      <th>0</th>\n",
       "      <td>1908</td>\n",
       "    </tr>\n",
       "    <tr>\n",
       "      <th>1</th>\n",
       "      <td>539</td>\n",
       "    </tr>\n",
       "    <tr>\n",
       "      <th>2</th>\n",
       "      <td>156</td>\n",
       "    </tr>\n",
       "    <tr>\n",
       "      <th>4</th>\n",
       "      <td>3</td>\n",
       "    </tr>\n",
       "  </tbody>\n",
       "</table>\n",
       "</div>"
      ],
      "text/plain": [
       "   Type Count\n",
       "0            \n",
       "0        1908\n",
       "1         539\n",
       "2         156\n",
       "4           3"
      ]
     },
     "execution_count": 28,
     "metadata": {},
     "output_type": "execute_result"
    }
   ],
   "source": [
    "df = pd.DataFrame(y_pred1)\n",
    "count2 = df.value_counts()\n",
    "count2_dna_df = pd.DataFrame({'Type Count': count2})\n",
    "count2_dna_df"
   ]
  },
  {
   "cell_type": "code",
   "execution_count": 29,
   "id": "61b05748",
   "metadata": {},
   "outputs": [
    {
     "data": {
      "text/plain": [
       "Text(0.5, 1.0, 'Frequency of each predicted type')"
      ]
     },
     "execution_count": 29,
     "metadata": {},
     "output_type": "execute_result"
    },
    {
     "data": {
      "image/png": "[encoded data removed]",
      "text/plain": [
       "<Figure size 432x288 with 1 Axes>"
      ]
     },
     "metadata": {
      "needs_background": "light"
     },
     "output_type": "display_data"
    }
   ],
   "source": [
    "a = plt.hist(y_pred1)\n",
    "plt.xlim(-1,13)\n",
    "plt.xlabel('Predicted Type')\n",
    "plt.ylabel('Frequency')\n",
    "plt.title('Frequency of each predicted type')"
   ]
  },
  {
   "cell_type": "code",
   "execution_count": 30,
   "id": "8b8c76eb",
   "metadata": {},
   "outputs": [
    {
     "data": {
      "text/plain": [
       "Text(0.5, 1.0, 'Relative frequency of each predicted DNAtype')"
      ]
     },
     "execution_count": 30,
     "metadata": {},
     "output_type": "execute_result"
    },
    {
     "data": {
      "image/png": "[encoded data removed]",
      "text/plain": [
       "<Figure size 432x288 with 1 Axes>"
      ]
     },
     "metadata": {
      "needs_background": "light"
     },
     "output_type": "display_data"
    }
   ],
   "source": [
    "plt.plot(y_pred1,'+')\n",
    "plt.xlabel('Relative Frequency')\n",
    "plt.ylabel('DNAtype')\n",
    "plt.title('Relative frequency of each predicted DNAtype')"
   ]
  },
  {
   "cell_type": "markdown",
   "id": "6470d541",
   "metadata": {},
   "source": [
    "#### <span style=\"color: red\">  As the visualizations shown above, the KNN method can predict Type 0, Type 1, Type 2, and Type 4 which is better than logistic regression method since LR method can only predict 3 DNAtypes."
   ]
  },
  {
   "cell_type": "markdown",
   "id": "a5ce01c7",
   "metadata": {},
   "source": [
    "# Comparative analysis"
   ]
  },
  {
   "cell_type": "code",
   "execution_count": 31,
   "id": "de923520",
   "metadata": {},
   "outputs": [
    {
     "data": {
      "text/plain": [
       "Text(0.5, 1.0, 'Relative frequency of each predicted DNAtype for RL and KNN')"
      ]
     },
     "execution_count": 31,
     "metadata": {},
     "output_type": "execute_result"
    },
    {
     "data": {
      "image/png": "[encoded data removed]",
      "text/plain": [
       "<Figure size 432x288 with 1 Axes>"
      ]
     },
     "metadata": {
      "needs_background": "light"
     },
     "output_type": "display_data"
    }
   ],
   "source": [
    "plt.plot(y_pred,'>')\n",
    "plt.plot(y_pred1,'.')\n",
    "plt.legend([\"LR\", \"KNN\"])\n",
    "plt.xlabel('Relative Frequency')\n",
    "plt.ylabel('DNAtype')\n",
    "plt.title('Relative frequency of each predicted DNAtype for RL and KNN')"
   ]
  },
  {
   "cell_type": "code",
   "execution_count": 32,
   "id": "7e287512",
   "metadata": {},
   "outputs": [
    {
     "data": {
      "text/plain": [
       "Text(33.0, 0.5, 'KNN - Actual Type')"
      ]
     },
     "execution_count": 32,
     "metadata": {},
     "output_type": "execute_result"
    },
    {
     "data": {
      "image/png": "[encoded data removed]",
      "text/plain": [
       "<Figure size 432x288 with 4 Axes>"
      ]
     },
     "metadata": {
      "needs_background": "light"
     },
     "output_type": "display_data"
    }
   ],
   "source": [
    "plt.subplot(2, 1, 1)\n",
    "sns.heatmap(confusion_matrix(y_test, y_pred, normalize = 'true'),annot = True,cmap = 'Blues')\n",
    "plt.ylabel('RL - Actual Type')\n",
    "plt.title('Confusion Matrix')\n",
    "\n",
    "plt.subplot(2, 1, 2)\n",
    "sns.heatmap(confusion_matrix(y_test, y_pred1, normalize = 'true'),annot = True,cmap = 'Greens')\n",
    "plt.xlabel('Predicted Type')\n",
    "plt.ylabel('KNN - Actual Type')"
   ]
  },
  {
   "cell_type": "markdown",
   "id": "f3b05009",
   "metadata": {},
   "source": [
    "### <span style=\"color: red\"> Since the dimension of the dataset is reduced before trainning the samples, both methods are supposed to have the same computational complexity. And from the visualisations of both methods, we can conclude that in processing this dataset KNN method performs better than logistic regression since the former method not only has a slightly higher accuracy, but mostly importantly it can predict one more DNAtype than the latter method.\n",
    "### <span style=\"color: red\"> Since the dataset does not have an uniform output distribution as the majority of DNAtype fall into Type 0, the high accuracy score might mislead one to believe the model has a good performance even it can only predict few DNAtype. \n",
    "### <span style=\"color: red\"> And Finding a best fit of parameters is necessary to make a good model and prediction."
   ]
  },
  {
   "cell_type": "code",
   "execution_count": null,
   "id": "ca0a1b07",
   "metadata": {},
   "outputs": [],
   "source": []
  }
 ],
 "metadata": {
  "kernelspec": {
   "display_name": "Python 3 (ipykernel)",
   "language": "python",
   "name": "python3"
  },
  "language_info": {
   "codemirror_mode": {
    "name": "ipython",
    "version": 3
   },
   "file_extension": ".py",
   "mimetype": "text/x-python",
   "name": "python",
   "nbconvert_exporter": "python",
   "pygments_lexer": "ipython3",
   "version": "3.9.12"
  }
 },
 "nbformat": 4,
 "nbformat_minor": 5
}
