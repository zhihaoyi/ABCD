{
 "cells": [
  {
   "cell_type": "markdown",
   "id": "6dd98154",
   "metadata": {},
   "source": [
    "# Library&Package Import"
   ]
  },
  {
   "cell_type": "code",
   "execution_count": 1,
   "id": "2715a7a2",
   "metadata": {},
   "outputs": [],
   "source": [
    "import pandas as pd\n",
    "import numpy as np"
   ]
  },
  {
   "cell_type": "markdown",
   "id": "718185be",
   "metadata": {},
   "source": [
    "## Export the dataset:"
   ]
  },
  {
   "cell_type": "code",
   "execution_count": 2,
   "id": "f98ea905",
   "metadata": {},
   "outputs": [
    {
     "data": {
      "text/html": [
       "<div>\n",
       "<style scoped>\n",
       "    .dataframe tbody tr th:only-of-type {\n",
       "        vertical-align: middle;\n",
       "    }\n",
       "\n",
       "    .dataframe tbody tr th {\n",
       "        vertical-align: top;\n",
       "    }\n",
       "\n",
       "    .dataframe thead th {\n",
       "        text-align: right;\n",
       "    }\n",
       "</style>\n",
       "<table border=\"1\" class=\"dataframe\">\n",
       "  <thead>\n",
       "    <tr style=\"text-align: right;\">\n",
       "      <th></th>\n",
       "      <th>Unnamed: 0</th>\n",
       "      <th>Kingdom</th>\n",
       "      <th>DNAtype</th>\n",
       "      <th>SpeciesID</th>\n",
       "      <th>Ncodons</th>\n",
       "      <th>UUU</th>\n",
       "      <th>UUC</th>\n",
       "      <th>UUA</th>\n",
       "      <th>UUG</th>\n",
       "      <th>CUU</th>\n",
       "      <th>...</th>\n",
       "      <th>CGG</th>\n",
       "      <th>AGA</th>\n",
       "      <th>AGG</th>\n",
       "      <th>GAU</th>\n",
       "      <th>GAC</th>\n",
       "      <th>GAA</th>\n",
       "      <th>GAG</th>\n",
       "      <th>UAA</th>\n",
       "      <th>UAG</th>\n",
       "      <th>UGA</th>\n",
       "    </tr>\n",
       "  </thead>\n",
       "  <tbody>\n",
       "    <tr>\n",
       "      <th>0</th>\n",
       "      <td>0</td>\n",
       "      <td>4</td>\n",
       "      <td>0</td>\n",
       "      <td>100217</td>\n",
       "      <td>1995</td>\n",
       "      <td>0.01654</td>\n",
       "      <td>0.01203</td>\n",
       "      <td>0.00050</td>\n",
       "      <td>0.00351</td>\n",
       "      <td>0.01203</td>\n",
       "      <td>...</td>\n",
       "      <td>0.00451</td>\n",
       "      <td>0.01303</td>\n",
       "      <td>0.03559</td>\n",
       "      <td>0.01003</td>\n",
       "      <td>0.04612</td>\n",
       "      <td>0.01203</td>\n",
       "      <td>0.04361</td>\n",
       "      <td>0.00251</td>\n",
       "      <td>0.00050</td>\n",
       "      <td>0.00000</td>\n",
       "    </tr>\n",
       "    <tr>\n",
       "      <th>1</th>\n",
       "      <td>1</td>\n",
       "      <td>4</td>\n",
       "      <td>0</td>\n",
       "      <td>100220</td>\n",
       "      <td>1474</td>\n",
       "      <td>0.02714</td>\n",
       "      <td>0.01357</td>\n",
       "      <td>0.00068</td>\n",
       "      <td>0.00678</td>\n",
       "      <td>0.00407</td>\n",
       "      <td>...</td>\n",
       "      <td>0.00136</td>\n",
       "      <td>0.01696</td>\n",
       "      <td>0.03596</td>\n",
       "      <td>0.01221</td>\n",
       "      <td>0.04545</td>\n",
       "      <td>0.01560</td>\n",
       "      <td>0.04410</td>\n",
       "      <td>0.00271</td>\n",
       "      <td>0.00068</td>\n",
       "      <td>0.00000</td>\n",
       "    </tr>\n",
       "    <tr>\n",
       "      <th>2</th>\n",
       "      <td>2</td>\n",
       "      <td>4</td>\n",
       "      <td>0</td>\n",
       "      <td>100755</td>\n",
       "      <td>4862</td>\n",
       "      <td>0.01974</td>\n",
       "      <td>0.02180</td>\n",
       "      <td>0.01357</td>\n",
       "      <td>0.01543</td>\n",
       "      <td>0.00782</td>\n",
       "      <td>...</td>\n",
       "      <td>0.00596</td>\n",
       "      <td>0.01974</td>\n",
       "      <td>0.02489</td>\n",
       "      <td>0.03126</td>\n",
       "      <td>0.02036</td>\n",
       "      <td>0.02242</td>\n",
       "      <td>0.02468</td>\n",
       "      <td>0.00391</td>\n",
       "      <td>0.00000</td>\n",
       "      <td>0.00144</td>\n",
       "    </tr>\n",
       "    <tr>\n",
       "      <th>3</th>\n",
       "      <td>3</td>\n",
       "      <td>4</td>\n",
       "      <td>0</td>\n",
       "      <td>100880</td>\n",
       "      <td>1915</td>\n",
       "      <td>0.01775</td>\n",
       "      <td>0.02245</td>\n",
       "      <td>0.01619</td>\n",
       "      <td>0.00992</td>\n",
       "      <td>0.01567</td>\n",
       "      <td>...</td>\n",
       "      <td>0.00366</td>\n",
       "      <td>0.01410</td>\n",
       "      <td>0.01671</td>\n",
       "      <td>0.03760</td>\n",
       "      <td>0.01932</td>\n",
       "      <td>0.03029</td>\n",
       "      <td>0.03446</td>\n",
       "      <td>0.00261</td>\n",
       "      <td>0.00157</td>\n",
       "      <td>0.00000</td>\n",
       "    </tr>\n",
       "    <tr>\n",
       "      <th>4</th>\n",
       "      <td>4</td>\n",
       "      <td>4</td>\n",
       "      <td>0</td>\n",
       "      <td>100887</td>\n",
       "      <td>22831</td>\n",
       "      <td>0.02816</td>\n",
       "      <td>0.01371</td>\n",
       "      <td>0.00767</td>\n",
       "      <td>0.03679</td>\n",
       "      <td>0.01380</td>\n",
       "      <td>...</td>\n",
       "      <td>0.00604</td>\n",
       "      <td>0.01494</td>\n",
       "      <td>0.01734</td>\n",
       "      <td>0.04148</td>\n",
       "      <td>0.02483</td>\n",
       "      <td>0.03359</td>\n",
       "      <td>0.03679</td>\n",
       "      <td>0.00000</td>\n",
       "      <td>0.00044</td>\n",
       "      <td>0.00131</td>\n",
       "    </tr>\n",
       "    <tr>\n",
       "      <th>...</th>\n",
       "      <td>...</td>\n",
       "      <td>...</td>\n",
       "      <td>...</td>\n",
       "      <td>...</td>\n",
       "      <td>...</td>\n",
       "      <td>...</td>\n",
       "      <td>...</td>\n",
       "      <td>...</td>\n",
       "      <td>...</td>\n",
       "      <td>...</td>\n",
       "      <td>...</td>\n",
       "      <td>...</td>\n",
       "      <td>...</td>\n",
       "      <td>...</td>\n",
       "      <td>...</td>\n",
       "      <td>...</td>\n",
       "      <td>...</td>\n",
       "      <td>...</td>\n",
       "      <td>...</td>\n",
       "      <td>...</td>\n",
       "      <td>...</td>\n",
       "    </tr>\n",
       "    <tr>\n",
       "      <th>12957</th>\n",
       "      <td>12957</td>\n",
       "      <td>2</td>\n",
       "      <td>0</td>\n",
       "      <td>9601</td>\n",
       "      <td>1097</td>\n",
       "      <td>0.02552</td>\n",
       "      <td>0.03555</td>\n",
       "      <td>0.00547</td>\n",
       "      <td>0.01367</td>\n",
       "      <td>0.01276</td>\n",
       "      <td>...</td>\n",
       "      <td>0.00820</td>\n",
       "      <td>0.01367</td>\n",
       "      <td>0.01094</td>\n",
       "      <td>0.01367</td>\n",
       "      <td>0.02279</td>\n",
       "      <td>0.02005</td>\n",
       "      <td>0.04102</td>\n",
       "      <td>0.00091</td>\n",
       "      <td>0.00091</td>\n",
       "      <td>0.00638</td>\n",
       "    </tr>\n",
       "    <tr>\n",
       "      <th>12958</th>\n",
       "      <td>12958</td>\n",
       "      <td>2</td>\n",
       "      <td>1</td>\n",
       "      <td>9601</td>\n",
       "      <td>2067</td>\n",
       "      <td>0.01258</td>\n",
       "      <td>0.03193</td>\n",
       "      <td>0.01984</td>\n",
       "      <td>0.00629</td>\n",
       "      <td>0.01451</td>\n",
       "      <td>...</td>\n",
       "      <td>0.00145</td>\n",
       "      <td>0.00000</td>\n",
       "      <td>0.00048</td>\n",
       "      <td>0.00194</td>\n",
       "      <td>0.01306</td>\n",
       "      <td>0.01838</td>\n",
       "      <td>0.00677</td>\n",
       "      <td>0.00242</td>\n",
       "      <td>0.00097</td>\n",
       "      <td>0.01887</td>\n",
       "    </tr>\n",
       "    <tr>\n",
       "      <th>12959</th>\n",
       "      <td>12959</td>\n",
       "      <td>2</td>\n",
       "      <td>1</td>\n",
       "      <td>9602</td>\n",
       "      <td>1686</td>\n",
       "      <td>0.01423</td>\n",
       "      <td>0.03321</td>\n",
       "      <td>0.01661</td>\n",
       "      <td>0.00356</td>\n",
       "      <td>0.01127</td>\n",
       "      <td>...</td>\n",
       "      <td>0.00000</td>\n",
       "      <td>0.00000</td>\n",
       "      <td>0.00000</td>\n",
       "      <td>0.00178</td>\n",
       "      <td>0.01661</td>\n",
       "      <td>0.02788</td>\n",
       "      <td>0.00297</td>\n",
       "      <td>0.00356</td>\n",
       "      <td>0.00119</td>\n",
       "      <td>0.02017</td>\n",
       "    </tr>\n",
       "    <tr>\n",
       "      <th>12960</th>\n",
       "      <td>12960</td>\n",
       "      <td>2</td>\n",
       "      <td>0</td>\n",
       "      <td>9606</td>\n",
       "      <td>40662582</td>\n",
       "      <td>0.01757</td>\n",
       "      <td>0.02028</td>\n",
       "      <td>0.00767</td>\n",
       "      <td>0.01293</td>\n",
       "      <td>0.01319</td>\n",
       "      <td>...</td>\n",
       "      <td>0.01142</td>\n",
       "      <td>0.01217</td>\n",
       "      <td>0.01196</td>\n",
       "      <td>0.02178</td>\n",
       "      <td>0.02510</td>\n",
       "      <td>0.02896</td>\n",
       "      <td>0.03959</td>\n",
       "      <td>0.00099</td>\n",
       "      <td>0.00079</td>\n",
       "      <td>0.00156</td>\n",
       "    </tr>\n",
       "    <tr>\n",
       "      <th>12961</th>\n",
       "      <td>12961</td>\n",
       "      <td>2</td>\n",
       "      <td>1</td>\n",
       "      <td>9606</td>\n",
       "      <td>8998998</td>\n",
       "      <td>0.01778</td>\n",
       "      <td>0.03724</td>\n",
       "      <td>0.01732</td>\n",
       "      <td>0.00600</td>\n",
       "      <td>0.01689</td>\n",
       "      <td>...</td>\n",
       "      <td>0.00083</td>\n",
       "      <td>0.00041</td>\n",
       "      <td>0.00041</td>\n",
       "      <td>0.00451</td>\n",
       "      <td>0.01402</td>\n",
       "      <td>0.01651</td>\n",
       "      <td>0.00783</td>\n",
       "      <td>0.00156</td>\n",
       "      <td>0.00114</td>\n",
       "      <td>0.02161</td>\n",
       "    </tr>\n",
       "  </tbody>\n",
       "</table>\n",
       "<p>12962 rows × 69 columns</p>\n",
       "</div>"
      ],
      "text/plain": [
       "       Unnamed: 0  Kingdom  DNAtype  SpeciesID   Ncodons      UUU      UUC  \\\n",
       "0               0        4        0     100217      1995  0.01654  0.01203   \n",
       "1               1        4        0     100220      1474  0.02714  0.01357   \n",
       "2               2        4        0     100755      4862  0.01974  0.02180   \n",
       "3               3        4        0     100880      1915  0.01775  0.02245   \n",
       "4               4        4        0     100887     22831  0.02816  0.01371   \n",
       "...           ...      ...      ...        ...       ...      ...      ...   \n",
       "12957       12957        2        0       9601      1097  0.02552  0.03555   \n",
       "12958       12958        2        1       9601      2067  0.01258  0.03193   \n",
       "12959       12959        2        1       9602      1686  0.01423  0.03321   \n",
       "12960       12960        2        0       9606  40662582  0.01757  0.02028   \n",
       "12961       12961        2        1       9606   8998998  0.01778  0.03724   \n",
       "\n",
       "           UUA      UUG      CUU  ...      CGG      AGA      AGG      GAU  \\\n",
       "0      0.00050  0.00351  0.01203  ...  0.00451  0.01303  0.03559  0.01003   \n",
       "1      0.00068  0.00678  0.00407  ...  0.00136  0.01696  0.03596  0.01221   \n",
       "2      0.01357  0.01543  0.00782  ...  0.00596  0.01974  0.02489  0.03126   \n",
       "3      0.01619  0.00992  0.01567  ...  0.00366  0.01410  0.01671  0.03760   \n",
       "4      0.00767  0.03679  0.01380  ...  0.00604  0.01494  0.01734  0.04148   \n",
       "...        ...      ...      ...  ...      ...      ...      ...      ...   \n",
       "12957  0.00547  0.01367  0.01276  ...  0.00820  0.01367  0.01094  0.01367   \n",
       "12958  0.01984  0.00629  0.01451  ...  0.00145  0.00000  0.00048  0.00194   \n",
       "12959  0.01661  0.00356  0.01127  ...  0.00000  0.00000  0.00000  0.00178   \n",
       "12960  0.00767  0.01293  0.01319  ...  0.01142  0.01217  0.01196  0.02178   \n",
       "12961  0.01732  0.00600  0.01689  ...  0.00083  0.00041  0.00041  0.00451   \n",
       "\n",
       "           GAC      GAA      GAG      UAA      UAG      UGA  \n",
       "0      0.04612  0.01203  0.04361  0.00251  0.00050  0.00000  \n",
       "1      0.04545  0.01560  0.04410  0.00271  0.00068  0.00000  \n",
       "2      0.02036  0.02242  0.02468  0.00391  0.00000  0.00144  \n",
       "3      0.01932  0.03029  0.03446  0.00261  0.00157  0.00000  \n",
       "4      0.02483  0.03359  0.03679  0.00000  0.00044  0.00131  \n",
       "...        ...      ...      ...      ...      ...      ...  \n",
       "12957  0.02279  0.02005  0.04102  0.00091  0.00091  0.00638  \n",
       "12958  0.01306  0.01838  0.00677  0.00242  0.00097  0.01887  \n",
       "12959  0.01661  0.02788  0.00297  0.00356  0.00119  0.02017  \n",
       "12960  0.02510  0.02896  0.03959  0.00099  0.00079  0.00156  \n",
       "12961  0.01402  0.01651  0.00783  0.00156  0.00114  0.02161  \n",
       "\n",
       "[12962 rows x 69 columns]"
      ]
     },
     "execution_count": 2,
     "metadata": {},
     "output_type": "execute_result"
    }
   ],
   "source": [
    "dna_df = pd.read_csv(\"cleaned_codon_usage.csv\")\n",
    "dna_df"
   ]
  },
  {
   "cell_type": "markdown",
   "id": "c6e00052",
   "metadata": {},
   "source": [
    "## Normalization:"
   ]
  },
  {
   "cell_type": "code",
   "execution_count": 3,
   "id": "cbb0b45e",
   "metadata": {},
   "outputs": [
    {
     "data": {
      "text/plain": [
       "array([[0.00000000e+00, 0.00000000e+00, 2.15340051e-01, ...,\n",
       "        5.55309735e-02, 1.95236236e-02, 0.00000000e+00],\n",
       "       [7.71545405e-05, 0.00000000e+00, 2.15346497e-01, ...,\n",
       "        5.99557522e-02, 2.65521281e-02, 0.00000000e+00],\n",
       "       [1.54309081e-04, 0.00000000e+00, 2.16496152e-01, ...,\n",
       "        8.65044248e-02, 0.00000000e+00, 1.34957826e-02],\n",
       "       ...,\n",
       "       [9.99845691e-01, 5.00000000e-01, 2.06185789e-02, ...,\n",
       "        7.87610619e-02, 4.64662241e-02, 1.89034677e-01],\n",
       "       [9.99922845e-01, 0.00000000e+00, 2.06271744e-02, ...,\n",
       "        2.19026549e-02, 3.08473253e-02, 1.46204311e-02],\n",
       "       [1.00000000e+00, 5.00000000e-01, 2.06271744e-02, ...,\n",
       "        3.45132743e-02, 4.45138618e-02, 2.02530459e-01]])"
      ]
     },
     "execution_count": 3,
     "metadata": {},
     "output_type": "execute_result"
    }
   ],
   "source": [
    "from sklearn.preprocessing import MinMaxScaler\n",
    "y = dna_df['Kingdom']\n",
    "x = dna_df.drop(columns=['Kingdom'])\n",
    "scaler = MinMaxScaler( )\n",
    "x_scaled = scaler.fit_transform(x)\n",
    "x_scaled"
   ]
  },
  {
   "cell_type": "markdown",
   "id": "b31ddc41",
   "metadata": {},
   "source": [
    "## Data split:"
   ]
  },
  {
   "cell_type": "code",
   "execution_count": 4,
   "id": "5b4b8a79",
   "metadata": {},
   "outputs": [
    {
     "name": "stdout",
     "output_type": "stream",
     "text": [
      "(10369, 68) (2593, 68) (10369,) (2593,)\n"
     ]
    }
   ],
   "source": [
    "from sklearn.model_selection import train_test_split\n",
    "x_train, x_test, y_train, y_test = train_test_split(x_scaled, y, test_size=0.20)\n",
    "print(x_train.shape, x_test.shape, y_train.shape, y_test.shape)"
   ]
  },
  {
   "cell_type": "markdown",
   "id": "43c1cd81",
   "metadata": {},
   "source": [
    "## Model training:"
   ]
  },
  {
   "cell_type": "code",
   "execution_count": 5,
   "id": "00e8affe",
   "metadata": {},
   "outputs": [
    {
     "name": "stdout",
     "output_type": "stream",
     "text": [
      "Epoch 1/15\n",
      "325/325 [==============================] - 1s 1ms/step - loss: 1.2086 - accuracy: 0.5198 - val_loss: 1.0440 - val_accuracy: 0.5156\n",
      "Epoch 2/15\n",
      "325/325 [==============================] - 0s 997us/step - loss: 0.9302 - accuracy: 0.5334 - val_loss: 0.8805 - val_accuracy: 0.5160\n",
      "Epoch 3/15\n",
      "325/325 [==============================] - 0s 959us/step - loss: 0.7906 - accuracy: 0.5916 - val_loss: 0.7604 - val_accuracy: 0.6984\n",
      "Epoch 4/15\n",
      "325/325 [==============================] - 0s 955us/step - loss: 0.6838 - accuracy: 0.7928 - val_loss: 0.6648 - val_accuracy: 0.8376\n",
      "Epoch 5/15\n",
      "325/325 [==============================] - 0s 949us/step - loss: 0.5969 - accuracy: 0.8649 - val_loss: 0.5875 - val_accuracy: 0.8608\n",
      "Epoch 6/15\n",
      "325/325 [==============================] - 0s 914us/step - loss: 0.5258 - accuracy: 0.8820 - val_loss: 0.5241 - val_accuracy: 0.8693\n",
      "Epoch 7/15\n",
      "325/325 [==============================] - 0s 937us/step - loss: 0.4675 - accuracy: 0.8954 - val_loss: 0.4699 - val_accuracy: 0.8878\n",
      "Epoch 8/15\n",
      "325/325 [==============================] - 0s 943us/step - loss: 0.4198 - accuracy: 0.9084 - val_loss: 0.4276 - val_accuracy: 0.8970\n",
      "Epoch 9/15\n",
      "325/325 [==============================] - 0s 873us/step - loss: 0.3801 - accuracy: 0.9216 - val_loss: 0.3901 - val_accuracy: 0.9125\n",
      "Epoch 10/15\n",
      "325/325 [==============================] - 0s 895us/step - loss: 0.3465 - accuracy: 0.9339 - val_loss: 0.3585 - val_accuracy: 0.9283\n",
      "Epoch 11/15\n",
      "325/325 [==============================] - 0s 921us/step - loss: 0.3177 - accuracy: 0.9456 - val_loss: 0.3313 - val_accuracy: 0.9391\n",
      "Epoch 12/15\n",
      "325/325 [==============================] - 0s 938us/step - loss: 0.2930 - accuracy: 0.9525 - val_loss: 0.3077 - val_accuracy: 0.9495\n",
      "Epoch 13/15\n",
      "325/325 [==============================] - 0s 911us/step - loss: 0.2722 - accuracy: 0.9560 - val_loss: 0.2883 - val_accuracy: 0.9514\n",
      "Epoch 14/15\n",
      "325/325 [==============================] - 0s 932us/step - loss: 0.2546 - accuracy: 0.9591 - val_loss: 0.2732 - val_accuracy: 0.9506\n",
      "Epoch 15/15\n",
      "325/325 [==============================] - 0s 933us/step - loss: 0.2398 - accuracy: 0.9607 - val_loss: 0.2580 - val_accuracy: 0.9530\n"
     ]
    }
   ],
   "source": [
    "import tensorflow as tf\n",
    "from tensorflow.keras.models import Sequential\n",
    "from tensorflow.keras.layers import Dense\n",
    "\n",
    "model = tf.keras.models.Sequential([\n",
    "  tf.keras.layers.Dense(9, activation='relu'),\n",
    "  tf.keras.layers.Dense(5, activation='softmax')\n",
    "])\n",
    "\n",
    "\n",
    "model.compile(loss='sparse_categorical_crossentropy', optimizer='SGD', metrics=['accuracy'])\n",
    "history_LSTM = model.fit(x_train, y_train, batch_size=32, epochs=15, validation_data=(x_test,y_test)) \n"
   ]
  },
  {
   "cell_type": "code",
   "execution_count": 6,
   "id": "d25240fe",
   "metadata": {},
   "outputs": [
    {
     "name": "stdout",
     "output_type": "stream",
     "text": [
      "82/82 [==============================] - 0s 602us/step\n"
     ]
    }
   ],
   "source": [
    "y_pred = model.predict(x_test)\n",
    "y_pred1 = np.zeros(y_pred.shape[0])\n",
    "for index, value in enumerate(y_pred):\n",
    "    y_pred1[index] = np.argmax(y_pred[index])"
   ]
  },
  {
   "cell_type": "code",
   "execution_count": 7,
   "id": "6487f8f0",
   "metadata": {},
   "outputs": [
    {
     "name": "stdout",
     "output_type": "stream",
     "text": [
      "precision_score:  0.9529502506748939\n",
      "recall_score:  0.9529502506748939\n",
      "f1_micro_score:  0.9529502506748939\n",
      "accuracy_score:  0.9529502506748939\n"
     ]
    }
   ],
   "source": [
    "from sklearn.metrics import accuracy_score, precision_score, recall_score, f1_score\n",
    "accuracy = accuracy_score(y_test, y_pred1)\n",
    "precision = precision_score(y_test, y_pred1, average='micro')\n",
    "recall = recall_score(y_test, y_pred1, average='micro')\n",
    "f1 = f1_score(y_test, y_pred1, average='micro')\n",
    "\n",
    "print('precision_score: ',precision)\n",
    "print('recall_score: ',recall)\n",
    "print('f1_micro_score: ',f1)\n",
    "print('accuracy_score: ',accuracy)"
   ]
  },
  {
   "cell_type": "code",
   "execution_count": 8,
   "id": "73b60d66",
   "metadata": {},
   "outputs": [
    {
     "data": {
      "text/plain": [
       "Text(0.5, 1.0, 'Training and Validation Loss')"
      ]
     },
     "execution_count": 8,
     "metadata": {},
     "output_type": "execute_result"
    },
    {
     "data": {
      "image/png": "[encoded data removed]",
      "text/plain": [
       "<Figure size 600x600 with 2 Axes>"
      ]
     },
     "metadata": {},
     "output_type": "display_data"
    }
   ],
   "source": [
    "import matplotlib.pyplot as plt\n",
    "acc = history_LSTM.history['accuracy']\n",
    "val_acc = history_LSTM.history['val_accuracy']\n",
    "\n",
    "loss = history_LSTM.history['loss']\n",
    "val_loss = history_LSTM.history['val_loss']\n",
    "\n",
    "plt.figure(figsize=(6, 6))\n",
    "plt.subplot(2, 1, 1)\n",
    "plt.plot(acc, label='Training Acc.')\n",
    "plt.plot(val_acc, label='Validation Acc.')\n",
    "plt.legend()\n",
    "plt.ylabel('Accuracy')\n",
    "plt.title('Training and Validation Accuracy')\n",
    "\n",
    "plt.subplot(2, 1, 2)\n",
    "plt.plot(loss, label='Training Loss')\n",
    "plt.plot(val_loss, label='Validation Loss')\n",
    "plt.legend()\n",
    "plt.xlabel('Epoch')\n",
    "plt.ylabel('Loss')\n",
    "plt.title('Training and Validation Loss')"
   ]
  },
  {
   "cell_type": "code",
   "execution_count": 9,
   "id": "e886544b",
   "metadata": {},
   "outputs": [
    {
     "name": "stdout",
     "output_type": "stream",
     "text": [
      "Confusion matrix :\n",
      " [[   0   14    8    0    6]\n",
      " [   0  567   17    0   11]\n",
      " [   0    2 1335    0    0]\n",
      " [   0   51    0    0    1]\n",
      " [   0   12    0    0  569]]\n",
      "\n",
      "Classification report :\n",
      "               precision    recall  f1-score   support\n",
      "\n",
      "           0       0.00      0.00      0.00        28\n",
      "           1       0.88      0.95      0.91       595\n",
      "           2       0.98      1.00      0.99      1337\n",
      "           3       0.00      0.00      0.00        52\n",
      "           4       0.97      0.98      0.97       581\n",
      "\n",
      "    accuracy                           0.95      2593\n",
      "   macro avg       0.57      0.59      0.58      2593\n",
      "weighted avg       0.92      0.95      0.94      2593\n",
      "\n"
     ]
    },
    {
     "name": "stderr",
     "output_type": "stream",
     "text": [
      "C:\\Users\\highm\\AppData\\Roaming\\Python\\Python39\\site-packages\\sklearn\\metrics\\_classification.py:1334: UndefinedMetricWarning: Precision and F-score are ill-defined and being set to 0.0 in labels with no predicted samples. Use `zero_division` parameter to control this behavior.\n",
      "  _warn_prf(average, modifier, msg_start, len(result))\n",
      "C:\\Users\\highm\\AppData\\Roaming\\Python\\Python39\\site-packages\\sklearn\\metrics\\_classification.py:1334: UndefinedMetricWarning: Precision and F-score are ill-defined and being set to 0.0 in labels with no predicted samples. Use `zero_division` parameter to control this behavior.\n",
      "  _warn_prf(average, modifier, msg_start, len(result))\n",
      "C:\\Users\\highm\\AppData\\Roaming\\Python\\Python39\\site-packages\\sklearn\\metrics\\_classification.py:1334: UndefinedMetricWarning: Precision and F-score are ill-defined and being set to 0.0 in labels with no predicted samples. Use `zero_division` parameter to control this behavior.\n",
      "  _warn_prf(average, modifier, msg_start, len(result))\n"
     ]
    }
   ],
   "source": [
    "from sklearn.metrics import confusion_matrix, classification_report\n",
    "print('Confusion matrix :\\n {0}\\n'.format(confusion_matrix(y_test, y_pred1)))\n",
    "print('Classification report :\\n {0}'.format(classification_report(y_test, y_pred1)))"
   ]
  },
  {
   "cell_type": "markdown",
   "id": "70d43349",
   "metadata": {},
   "source": [
    "## Optimized Model:"
   ]
  },
  {
   "cell_type": "code",
   "execution_count": 10,
   "id": "624c48a6",
   "metadata": {},
   "outputs": [
    {
     "name": "stdout",
     "output_type": "stream",
     "text": [
      "Epoch 1/15\n",
      "325/325 [==============================] - 1s 1ms/step - loss: 0.4067 - accuracy: 0.8738 - val_loss: 0.1628 - val_accuracy: 0.9587\n",
      "Epoch 2/15\n",
      "325/325 [==============================] - 0s 1ms/step - loss: 0.1121 - accuracy: 0.9669 - val_loss: 0.1104 - val_accuracy: 0.9634\n",
      "Epoch 3/15\n",
      "325/325 [==============================] - 0s 1ms/step - loss: 0.0794 - accuracy: 0.9747 - val_loss: 0.0882 - val_accuracy: 0.9684\n",
      "Epoch 4/15\n",
      "325/325 [==============================] - 0s 1ms/step - loss: 0.0619 - accuracy: 0.9794 - val_loss: 0.0742 - val_accuracy: 0.9745\n",
      "Epoch 5/15\n",
      "325/325 [==============================] - 0s 1ms/step - loss: 0.0520 - accuracy: 0.9830 - val_loss: 0.0801 - val_accuracy: 0.9742\n",
      "Epoch 6/15\n",
      "325/325 [==============================] - 0s 1ms/step - loss: 0.0447 - accuracy: 0.9855 - val_loss: 0.0667 - val_accuracy: 0.9796\n",
      "Epoch 7/15\n",
      "325/325 [==============================] - 0s 1ms/step - loss: 0.0420 - accuracy: 0.9854 - val_loss: 0.0662 - val_accuracy: 0.9776\n",
      "Epoch 8/15\n",
      "325/325 [==============================] - 0s 1ms/step - loss: 0.0405 - accuracy: 0.9860 - val_loss: 0.0593 - val_accuracy: 0.9838\n",
      "Epoch 9/15\n",
      "325/325 [==============================] - 0s 1ms/step - loss: 0.0363 - accuracy: 0.9880 - val_loss: 0.0591 - val_accuracy: 0.9834\n",
      "Epoch 10/15\n",
      "325/325 [==============================] - 0s 1ms/step - loss: 0.0347 - accuracy: 0.9878 - val_loss: 0.0583 - val_accuracy: 0.9819\n",
      "Epoch 11/15\n",
      "325/325 [==============================] - 0s 1ms/step - loss: 0.0340 - accuracy: 0.9879 - val_loss: 0.0617 - val_accuracy: 0.9834\n",
      "Epoch 12/15\n",
      "325/325 [==============================] - 0s 1ms/step - loss: 0.0294 - accuracy: 0.9907 - val_loss: 0.0645 - val_accuracy: 0.9834\n",
      "Epoch 13/15\n",
      "325/325 [==============================] - 0s 1ms/step - loss: 0.0307 - accuracy: 0.9898 - val_loss: 0.0615 - val_accuracy: 0.9823\n",
      "Epoch 14/15\n",
      "325/325 [==============================] - 0s 1ms/step - loss: 0.0294 - accuracy: 0.9908 - val_loss: 0.0691 - val_accuracy: 0.9803\n",
      "Epoch 15/15\n",
      "325/325 [==============================] - 0s 1ms/step - loss: 0.0278 - accuracy: 0.9902 - val_loss: 0.0591 - val_accuracy: 0.9838\n"
     ]
    }
   ],
   "source": [
    "model1 = tf.keras.models.Sequential([\n",
    "  tf.keras.layers.Dense(128, activation='relu'),\n",
    "  tf.keras.layers.Dense(32, activation='relu'),\n",
    "  tf.keras.layers.Dense(5, activation='softmax')\n",
    "])\n",
    "\n",
    "\n",
    "model1.compile(loss='sparse_categorical_crossentropy', optimizer='Adam', metrics=['accuracy'])\n",
    "history_LSTM1 = model1.fit(x_train, y_train, batch_size=32, epochs=15, validation_data=(x_test,y_test)) \n"
   ]
  },
  {
   "cell_type": "code",
   "execution_count": 11,
   "id": "df1e0ab4",
   "metadata": {},
   "outputs": [
    {
     "name": "stdout",
     "output_type": "stream",
     "text": [
      "82/82 [==============================] - 0s 593us/step\n"
     ]
    }
   ],
   "source": [
    "y_pred = model1.predict(x_test)\n",
    "y_pred1 = np.zeros(y_pred.shape[0])\n",
    "for index, value in enumerate(y_pred):\n",
    "    y_pred1[index] = np.argmax(y_pred[index])"
   ]
  },
  {
   "cell_type": "code",
   "execution_count": 12,
   "id": "2bfa647b",
   "metadata": {},
   "outputs": [
    {
     "name": "stdout",
     "output_type": "stream",
     "text": [
      "precision_score:  0.9838025453143078\n",
      "recall_score:  0.9838025453143078\n",
      "f1_micro_score:  0.9838025453143078\n",
      "accuracy_score:  0.9838025453143078\n"
     ]
    }
   ],
   "source": [
    "accuracy = accuracy_score(y_test, y_pred1)\n",
    "precision = precision_score(y_test, y_pred1, average='micro')\n",
    "recall = recall_score(y_test, y_pred1, average='micro')\n",
    "f1 = f1_score(y_test, y_pred1, average='micro')\n",
    "\n",
    "print('precision_score: ',precision)\n",
    "print('recall_score: ',recall)\n",
    "print('f1_micro_score: ',f1)\n",
    "print('accuracy_score: ',accuracy)"
   ]
  },
  {
   "cell_type": "code",
   "execution_count": 13,
   "id": "98327e76",
   "metadata": {},
   "outputs": [
    {
     "data": {
      "text/plain": [
       "Text(0.5, 1.0, 'Training and Validation Loss')"
      ]
     },
     "execution_count": 13,
     "metadata": {},
     "output_type": "execute_result"
    },
    {
     "data": {
      "image/png": "[encoded data removed]",
      "text/plain": [
       "<Figure size 600x600 with 2 Axes>"
      ]
     },
     "metadata": {},
     "output_type": "display_data"
    }
   ],
   "source": [
    "acc = history_LSTM1.history['accuracy']\n",
    "val_acc = history_LSTM1.history['val_accuracy']\n",
    "\n",
    "loss = history_LSTM1.history['loss']\n",
    "val_loss = history_LSTM1.history['val_loss']\n",
    "\n",
    "plt.figure(figsize=(6, 6))\n",
    "plt.subplot(2, 1, 1)\n",
    "plt.plot(acc, label='Training Acc.')\n",
    "plt.plot(val_acc, label='Validation Acc.')\n",
    "plt.legend()\n",
    "plt.ylabel('Accuracy')\n",
    "plt.title('Training and Validation Accuracy')\n",
    "\n",
    "plt.subplot(2, 1, 2)\n",
    "plt.plot(loss, label='Training Loss')\n",
    "plt.plot(val_loss, label='Validation Loss')\n",
    "plt.legend()\n",
    "plt.xlabel('Epoch')\n",
    "plt.ylabel('Loss')\n",
    "plt.title('Training and Validation Loss')"
   ]
  },
  {
   "cell_type": "code",
   "execution_count": 14,
   "id": "d903b36f",
   "metadata": {},
   "outputs": [
    {
     "name": "stdout",
     "output_type": "stream",
     "text": [
      "Confusion matrix :\n",
      " [[  16   11    1    0    0]\n",
      " [   1  577    2   12    3]\n",
      " [   0    3 1334    0    0]\n",
      " [   1    6    0   44    1]\n",
      " [   0    1    0    0  580]]\n",
      "\n",
      "Classification report :\n",
      "               precision    recall  f1-score   support\n",
      "\n",
      "           0       0.89      0.57      0.70        28\n",
      "           1       0.96      0.97      0.97       595\n",
      "           2       1.00      1.00      1.00      1337\n",
      "           3       0.79      0.85      0.81        52\n",
      "           4       0.99      1.00      1.00       581\n",
      "\n",
      "    accuracy                           0.98      2593\n",
      "   macro avg       0.93      0.88      0.89      2593\n",
      "weighted avg       0.98      0.98      0.98      2593\n",
      "\n"
     ]
    }
   ],
   "source": [
    "from sklearn.metrics import confusion_matrix, classification_report\n",
    "print('Confusion matrix :\\n {0}\\n'.format(confusion_matrix(y_test, y_pred1)))\n",
    "print('Classification report :\\n {0}'.format(classification_report(y_test, y_pred1)))"
   ]
  }
 ],
 "metadata": {
  "kernelspec": {
   "display_name": "Python 3 (ipykernel)",
   "language": "python",
   "name": "python3"
  },
  "language_info": {
   "codemirror_mode": {
    "name": "ipython",
    "version": 3
   },
   "file_extension": ".py",
   "mimetype": "text/x-python",
   "name": "python",
   "nbconvert_exporter": "python",
   "pygments_lexer": "ipython3",
   "version": "3.9.13"
  }
 },
 "nbformat": 4,
 "nbformat_minor": 5
}
