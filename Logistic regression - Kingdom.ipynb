{
 "cells": [
  {
   "cell_type": "markdown",
   "id": "fa909906",
   "metadata": {},
   "source": [
    "# Library&Package Import"
   ]
  },
  {
   "cell_type": "code",
   "execution_count": 1,
   "id": "892c01eb",
   "metadata": {},
   "outputs": [],
   "source": [
    "import pandas as pd\n",
    "import numpy as np"
   ]
  },
  {
   "cell_type": "markdown",
   "id": "14eafbf6",
   "metadata": {},
   "source": [
    "# Dataset"
   ]
  },
  {
   "cell_type": "code",
   "execution_count": 2,
   "id": "1766e180",
   "metadata": {},
   "outputs": [
    {
     "data": {
      "text/html": [
       "<div>\n",
       "<style scoped>\n",
       "    .dataframe tbody tr th:only-of-type {\n",
       "        vertical-align: middle;\n",
       "    }\n",
       "\n",
       "    .dataframe tbody tr th {\n",
       "        vertical-align: top;\n",
       "    }\n",
       "\n",
       "    .dataframe thead th {\n",
       "        text-align: right;\n",
       "    }\n",
       "</style>\n",
       "<table border=\"1\" class=\"dataframe\">\n",
       "  <thead>\n",
       "    <tr style=\"text-align: right;\">\n",
       "      <th></th>\n",
       "      <th>Unnamed: 0</th>\n",
       "      <th>Kingdom</th>\n",
       "      <th>DNAtype</th>\n",
       "      <th>UUU</th>\n",
       "      <th>UUC</th>\n",
       "      <th>UUA</th>\n",
       "      <th>UUG</th>\n",
       "      <th>CUU</th>\n",
       "      <th>CUC</th>\n",
       "      <th>CUA</th>\n",
       "      <th>...</th>\n",
       "      <th>CGG</th>\n",
       "      <th>AGA</th>\n",
       "      <th>AGG</th>\n",
       "      <th>GAU</th>\n",
       "      <th>GAC</th>\n",
       "      <th>GAA</th>\n",
       "      <th>GAG</th>\n",
       "      <th>UAA</th>\n",
       "      <th>UAG</th>\n",
       "      <th>UGA</th>\n",
       "    </tr>\n",
       "  </thead>\n",
       "  <tbody>\n",
       "    <tr>\n",
       "      <th>0</th>\n",
       "      <td>0</td>\n",
       "      <td>4</td>\n",
       "      <td>0</td>\n",
       "      <td>0.01654</td>\n",
       "      <td>0.01203</td>\n",
       "      <td>0.00050</td>\n",
       "      <td>0.00351</td>\n",
       "      <td>0.01203</td>\n",
       "      <td>0.03208</td>\n",
       "      <td>0.00100</td>\n",
       "      <td>...</td>\n",
       "      <td>0.00451</td>\n",
       "      <td>0.01303</td>\n",
       "      <td>0.03559</td>\n",
       "      <td>0.01003</td>\n",
       "      <td>0.04612</td>\n",
       "      <td>0.01203</td>\n",
       "      <td>0.04361</td>\n",
       "      <td>0.00251</td>\n",
       "      <td>0.00050</td>\n",
       "      <td>0.00000</td>\n",
       "    </tr>\n",
       "    <tr>\n",
       "      <th>1</th>\n",
       "      <td>1</td>\n",
       "      <td>4</td>\n",
       "      <td>0</td>\n",
       "      <td>0.02714</td>\n",
       "      <td>0.01357</td>\n",
       "      <td>0.00068</td>\n",
       "      <td>0.00678</td>\n",
       "      <td>0.00407</td>\n",
       "      <td>0.02849</td>\n",
       "      <td>0.00204</td>\n",
       "      <td>...</td>\n",
       "      <td>0.00136</td>\n",
       "      <td>0.01696</td>\n",
       "      <td>0.03596</td>\n",
       "      <td>0.01221</td>\n",
       "      <td>0.04545</td>\n",
       "      <td>0.01560</td>\n",
       "      <td>0.04410</td>\n",
       "      <td>0.00271</td>\n",
       "      <td>0.00068</td>\n",
       "      <td>0.00000</td>\n",
       "    </tr>\n",
       "    <tr>\n",
       "      <th>2</th>\n",
       "      <td>2</td>\n",
       "      <td>4</td>\n",
       "      <td>0</td>\n",
       "      <td>0.01974</td>\n",
       "      <td>0.02180</td>\n",
       "      <td>0.01357</td>\n",
       "      <td>0.01543</td>\n",
       "      <td>0.00782</td>\n",
       "      <td>0.01111</td>\n",
       "      <td>0.01028</td>\n",
       "      <td>...</td>\n",
       "      <td>0.00596</td>\n",
       "      <td>0.01974</td>\n",
       "      <td>0.02489</td>\n",
       "      <td>0.03126</td>\n",
       "      <td>0.02036</td>\n",
       "      <td>0.02242</td>\n",
       "      <td>0.02468</td>\n",
       "      <td>0.00391</td>\n",
       "      <td>0.00000</td>\n",
       "      <td>0.00144</td>\n",
       "    </tr>\n",
       "    <tr>\n",
       "      <th>3</th>\n",
       "      <td>3</td>\n",
       "      <td>4</td>\n",
       "      <td>0</td>\n",
       "      <td>0.01775</td>\n",
       "      <td>0.02245</td>\n",
       "      <td>0.01619</td>\n",
       "      <td>0.00992</td>\n",
       "      <td>0.01567</td>\n",
       "      <td>0.01358</td>\n",
       "      <td>0.00940</td>\n",
       "      <td>...</td>\n",
       "      <td>0.00366</td>\n",
       "      <td>0.01410</td>\n",
       "      <td>0.01671</td>\n",
       "      <td>0.03760</td>\n",
       "      <td>0.01932</td>\n",
       "      <td>0.03029</td>\n",
       "      <td>0.03446</td>\n",
       "      <td>0.00261</td>\n",
       "      <td>0.00157</td>\n",
       "      <td>0.00000</td>\n",
       "    </tr>\n",
       "    <tr>\n",
       "      <th>4</th>\n",
       "      <td>4</td>\n",
       "      <td>4</td>\n",
       "      <td>0</td>\n",
       "      <td>0.02816</td>\n",
       "      <td>0.01371</td>\n",
       "      <td>0.00767</td>\n",
       "      <td>0.03679</td>\n",
       "      <td>0.01380</td>\n",
       "      <td>0.00548</td>\n",
       "      <td>0.00473</td>\n",
       "      <td>...</td>\n",
       "      <td>0.00604</td>\n",
       "      <td>0.01494</td>\n",
       "      <td>0.01734</td>\n",
       "      <td>0.04148</td>\n",
       "      <td>0.02483</td>\n",
       "      <td>0.03359</td>\n",
       "      <td>0.03679</td>\n",
       "      <td>0.00000</td>\n",
       "      <td>0.00044</td>\n",
       "      <td>0.00131</td>\n",
       "    </tr>\n",
       "    <tr>\n",
       "      <th>...</th>\n",
       "      <td>...</td>\n",
       "      <td>...</td>\n",
       "      <td>...</td>\n",
       "      <td>...</td>\n",
       "      <td>...</td>\n",
       "      <td>...</td>\n",
       "      <td>...</td>\n",
       "      <td>...</td>\n",
       "      <td>...</td>\n",
       "      <td>...</td>\n",
       "      <td>...</td>\n",
       "      <td>...</td>\n",
       "      <td>...</td>\n",
       "      <td>...</td>\n",
       "      <td>...</td>\n",
       "      <td>...</td>\n",
       "      <td>...</td>\n",
       "      <td>...</td>\n",
       "      <td>...</td>\n",
       "      <td>...</td>\n",
       "      <td>...</td>\n",
       "    </tr>\n",
       "    <tr>\n",
       "      <th>12957</th>\n",
       "      <td>12957</td>\n",
       "      <td>2</td>\n",
       "      <td>0</td>\n",
       "      <td>0.02552</td>\n",
       "      <td>0.03555</td>\n",
       "      <td>0.00547</td>\n",
       "      <td>0.01367</td>\n",
       "      <td>0.01276</td>\n",
       "      <td>0.02097</td>\n",
       "      <td>0.00820</td>\n",
       "      <td>...</td>\n",
       "      <td>0.00820</td>\n",
       "      <td>0.01367</td>\n",
       "      <td>0.01094</td>\n",
       "      <td>0.01367</td>\n",
       "      <td>0.02279</td>\n",
       "      <td>0.02005</td>\n",
       "      <td>0.04102</td>\n",
       "      <td>0.00091</td>\n",
       "      <td>0.00091</td>\n",
       "      <td>0.00638</td>\n",
       "    </tr>\n",
       "    <tr>\n",
       "      <th>12958</th>\n",
       "      <td>12958</td>\n",
       "      <td>2</td>\n",
       "      <td>1</td>\n",
       "      <td>0.01258</td>\n",
       "      <td>0.03193</td>\n",
       "      <td>0.01984</td>\n",
       "      <td>0.00629</td>\n",
       "      <td>0.01451</td>\n",
       "      <td>0.05322</td>\n",
       "      <td>0.07644</td>\n",
       "      <td>...</td>\n",
       "      <td>0.00145</td>\n",
       "      <td>0.00000</td>\n",
       "      <td>0.00048</td>\n",
       "      <td>0.00194</td>\n",
       "      <td>0.01306</td>\n",
       "      <td>0.01838</td>\n",
       "      <td>0.00677</td>\n",
       "      <td>0.00242</td>\n",
       "      <td>0.00097</td>\n",
       "      <td>0.01887</td>\n",
       "    </tr>\n",
       "    <tr>\n",
       "      <th>12959</th>\n",
       "      <td>12959</td>\n",
       "      <td>2</td>\n",
       "      <td>1</td>\n",
       "      <td>0.01423</td>\n",
       "      <td>0.03321</td>\n",
       "      <td>0.01661</td>\n",
       "      <td>0.00356</td>\n",
       "      <td>0.01127</td>\n",
       "      <td>0.05042</td>\n",
       "      <td>0.09609</td>\n",
       "      <td>...</td>\n",
       "      <td>0.00000</td>\n",
       "      <td>0.00000</td>\n",
       "      <td>0.00000</td>\n",
       "      <td>0.00178</td>\n",
       "      <td>0.01661</td>\n",
       "      <td>0.02788</td>\n",
       "      <td>0.00297</td>\n",
       "      <td>0.00356</td>\n",
       "      <td>0.00119</td>\n",
       "      <td>0.02017</td>\n",
       "    </tr>\n",
       "    <tr>\n",
       "      <th>12960</th>\n",
       "      <td>12960</td>\n",
       "      <td>2</td>\n",
       "      <td>0</td>\n",
       "      <td>0.01757</td>\n",
       "      <td>0.02028</td>\n",
       "      <td>0.00767</td>\n",
       "      <td>0.01293</td>\n",
       "      <td>0.01319</td>\n",
       "      <td>0.01959</td>\n",
       "      <td>0.00715</td>\n",
       "      <td>...</td>\n",
       "      <td>0.01142</td>\n",
       "      <td>0.01217</td>\n",
       "      <td>0.01196</td>\n",
       "      <td>0.02178</td>\n",
       "      <td>0.02510</td>\n",
       "      <td>0.02896</td>\n",
       "      <td>0.03959</td>\n",
       "      <td>0.00099</td>\n",
       "      <td>0.00079</td>\n",
       "      <td>0.00156</td>\n",
       "    </tr>\n",
       "    <tr>\n",
       "      <th>12961</th>\n",
       "      <td>12961</td>\n",
       "      <td>2</td>\n",
       "      <td>1</td>\n",
       "      <td>0.01778</td>\n",
       "      <td>0.03724</td>\n",
       "      <td>0.01732</td>\n",
       "      <td>0.00600</td>\n",
       "      <td>0.01689</td>\n",
       "      <td>0.03854</td>\n",
       "      <td>0.07000</td>\n",
       "      <td>...</td>\n",
       "      <td>0.00083</td>\n",
       "      <td>0.00041</td>\n",
       "      <td>0.00041</td>\n",
       "      <td>0.00451</td>\n",
       "      <td>0.01402</td>\n",
       "      <td>0.01651</td>\n",
       "      <td>0.00783</td>\n",
       "      <td>0.00156</td>\n",
       "      <td>0.00114</td>\n",
       "      <td>0.02161</td>\n",
       "    </tr>\n",
       "  </tbody>\n",
       "</table>\n",
       "<p>12962 rows × 67 columns</p>\n",
       "</div>"
      ],
      "text/plain": [
       "       Unnamed: 0  Kingdom  DNAtype      UUU      UUC      UUA      UUG  \\\n",
       "0               0        4        0  0.01654  0.01203  0.00050  0.00351   \n",
       "1               1        4        0  0.02714  0.01357  0.00068  0.00678   \n",
       "2               2        4        0  0.01974  0.02180  0.01357  0.01543   \n",
       "3               3        4        0  0.01775  0.02245  0.01619  0.00992   \n",
       "4               4        4        0  0.02816  0.01371  0.00767  0.03679   \n",
       "...           ...      ...      ...      ...      ...      ...      ...   \n",
       "12957       12957        2        0  0.02552  0.03555  0.00547  0.01367   \n",
       "12958       12958        2        1  0.01258  0.03193  0.01984  0.00629   \n",
       "12959       12959        2        1  0.01423  0.03321  0.01661  0.00356   \n",
       "12960       12960        2        0  0.01757  0.02028  0.00767  0.01293   \n",
       "12961       12961        2        1  0.01778  0.03724  0.01732  0.00600   \n",
       "\n",
       "           CUU      CUC      CUA  ...      CGG      AGA      AGG      GAU  \\\n",
       "0      0.01203  0.03208  0.00100  ...  0.00451  0.01303  0.03559  0.01003   \n",
       "1      0.00407  0.02849  0.00204  ...  0.00136  0.01696  0.03596  0.01221   \n",
       "2      0.00782  0.01111  0.01028  ...  0.00596  0.01974  0.02489  0.03126   \n",
       "3      0.01567  0.01358  0.00940  ...  0.00366  0.01410  0.01671  0.03760   \n",
       "4      0.01380  0.00548  0.00473  ...  0.00604  0.01494  0.01734  0.04148   \n",
       "...        ...      ...      ...  ...      ...      ...      ...      ...   \n",
       "12957  0.01276  0.02097  0.00820  ...  0.00820  0.01367  0.01094  0.01367   \n",
       "12958  0.01451  0.05322  0.07644  ...  0.00145  0.00000  0.00048  0.00194   \n",
       "12959  0.01127  0.05042  0.09609  ...  0.00000  0.00000  0.00000  0.00178   \n",
       "12960  0.01319  0.01959  0.00715  ...  0.01142  0.01217  0.01196  0.02178   \n",
       "12961  0.01689  0.03854  0.07000  ...  0.00083  0.00041  0.00041  0.00451   \n",
       "\n",
       "           GAC      GAA      GAG      UAA      UAG      UGA  \n",
       "0      0.04612  0.01203  0.04361  0.00251  0.00050  0.00000  \n",
       "1      0.04545  0.01560  0.04410  0.00271  0.00068  0.00000  \n",
       "2      0.02036  0.02242  0.02468  0.00391  0.00000  0.00144  \n",
       "3      0.01932  0.03029  0.03446  0.00261  0.00157  0.00000  \n",
       "4      0.02483  0.03359  0.03679  0.00000  0.00044  0.00131  \n",
       "...        ...      ...      ...      ...      ...      ...  \n",
       "12957  0.02279  0.02005  0.04102  0.00091  0.00091  0.00638  \n",
       "12958  0.01306  0.01838  0.00677  0.00242  0.00097  0.01887  \n",
       "12959  0.01661  0.02788  0.00297  0.00356  0.00119  0.02017  \n",
       "12960  0.02510  0.02896  0.03959  0.00099  0.00079  0.00156  \n",
       "12961  0.01402  0.01651  0.00783  0.00156  0.00114  0.02161  \n",
       "\n",
       "[12962 rows x 67 columns]"
      ]
     },
     "execution_count": 2,
     "metadata": {},
     "output_type": "execute_result"
    }
   ],
   "source": [
    "dna_df = pd.read_csv(\"cleaned_codon_usage.csv\")\n",
    "dna_df"
   ]
  },
  {
   "cell_type": "markdown",
   "id": "1eb55477",
   "metadata": {},
   "source": [
    "# Normalization"
   ]
  },
  {
   "cell_type": "code",
   "execution_count": 3,
   "id": "d6a1c2da",
   "metadata": {},
   "outputs": [
    {
     "data": {
      "text/plain": [
       "array([[0.07611597, 0.13120297, 0.00330404, ..., 0.05553097, 0.01952362,\n",
       "        0.        ],\n",
       "       [0.12489646, 0.14799869, 0.00449349, ..., 0.05995575, 0.02655213,\n",
       "        0.        ],\n",
       "       [0.09084215, 0.23775766, 0.08967158, ..., 0.08650442, 0.        ,\n",
       "        0.01349578],\n",
       "       ...,\n",
       "       [0.0654855 , 0.36219871, 0.10976013, ..., 0.07876106, 0.04646622,\n",
       "        0.18903468],\n",
       "       [0.08085596, 0.22118006, 0.05068394, ..., 0.02190265, 0.03084733,\n",
       "        0.01462043],\n",
       "       [0.08182237, 0.40615116, 0.11445186, ..., 0.03451327, 0.04451386,\n",
       "        0.20253046]])"
      ]
     },
     "execution_count": 3,
     "metadata": {},
     "output_type": "execute_result"
    }
   ],
   "source": [
    "from sklearn.preprocessing import MinMaxScaler\n",
    "y = dna_df['Kingdom']\n",
    "x = dna_df.drop(columns=['Unnamed: 0','Kingdom','DNAtype'])\n",
    "scaler = MinMaxScaler( )\n",
    "x_scaled = scaler.fit_transform(x)\n",
    "x_scaled"
   ]
  },
  {
   "cell_type": "markdown",
   "id": "53a6ae33",
   "metadata": {},
   "source": [
    "# PCA"
   ]
  },
  {
   "cell_type": "code",
   "execution_count": 4,
   "id": "656d55a6",
   "metadata": {},
   "outputs": [
    {
     "data": {
      "text/plain": [
       "array([0.35063693, 0.20579774, 0.05714541, 0.03743534, 0.0336434 ,\n",
       "       0.03175275, 0.02082744, 0.01942187, 0.01537959, 0.01360875])"
      ]
     },
     "execution_count": 4,
     "metadata": {},
     "output_type": "execute_result"
    }
   ],
   "source": [
    "from sklearn.decomposition import PCA\n",
    "pca = PCA(n_components = 10)  \n",
    "x_scaled = pca.fit_transform(x_scaled) \n",
    "pca.explained_variance_ratio_"
   ]
  },
  {
   "cell_type": "code",
   "execution_count": 5,
   "id": "149ba308",
   "metadata": {},
   "outputs": [
    {
     "data": {
      "text/plain": [
       "Text(0.5, 1.0, 'Principal component V.S. Percentage of variance explained')"
      ]
     },
     "execution_count": 5,
     "metadata": {},
     "output_type": "execute_result"
    },
    {
     "data": {
      "image/png": "[encoded data removed]",
      "text/plain": [
       "<Figure size 640x480 with 1 Axes>"
      ]
     },
     "metadata": {},
     "output_type": "display_data"
    }
   ],
   "source": [
    "from sklearn.model_selection import train_test_split\n",
    "import matplotlib.pyplot as plt\n",
    "plt.plot(range(1,11),pca.explained_variance_ratio_)\n",
    "plt.xlabel('Principal Component')\n",
    "plt.ylabel('Percentage of variance explained')\n",
    "plt.title('Principal component V.S. Percentage of variance explained')"
   ]
  },
  {
   "cell_type": "markdown",
   "id": "57833ca5",
   "metadata": {},
   "source": [
    "# Data split"
   ]
  },
  {
   "cell_type": "code",
   "execution_count": 6,
   "id": "837b5095",
   "metadata": {},
   "outputs": [
    {
     "name": "stdout",
     "output_type": "stream",
     "text": [
      "(10369, 10) (2593, 10) (10369,) (2593,)\n"
     ]
    }
   ],
   "source": [
    "x_train, x_test, y_train, y_test = train_test_split(x_scaled, y, test_size=0.20, random_state = 100)\n",
    "print(x_train.shape, x_test.shape, y_train.shape, y_test.shape)"
   ]
  },
  {
   "cell_type": "markdown",
   "id": "37512cf1",
   "metadata": {},
   "source": [
    "# Cross validation"
   ]
  },
  {
   "cell_type": "code",
   "execution_count": 19,
   "id": "9a77420a",
   "metadata": {},
   "outputs": [
    {
     "name": "stdout",
     "output_type": "stream",
     "text": [
      "Fitting 5 folds for each of 84 candidates, totalling 420 fits\n",
      "Best params:  {'C': 100.0, 'multi_class': 'auto', 'solver': 'sag'}\n",
      "Best scores:  0.8186894363448683\n"
     ]
    }
   ],
   "source": [
    "from sklearn.model_selection import GridSearchCV\n",
    "from sklearn.linear_model import LogisticRegression\n",
    "default_params = {'max_iter' : 1000, \"penalty\": \"l2\"} \n",
    "logreg = LogisticRegression(**default_params)\n",
    "grid={\"C\":np.logspace(-3,3,7), \"solver\": ['newton-cg', 'sag', 'saga', 'lbfgs'], 'multi_class' :['auto', 'ovr', 'multinomial']}\n",
    "cv=GridSearchCV(logreg, grid, verbose=2, refit=True, cv=5, n_jobs=-1)\n",
    "cv.fit(x_train,y_train)\n",
    "\n",
    "print('Best params: ', cv.best_params_)\n",
    "print('Best scores: ', cv.best_score_)"
   ]
  },
  {
   "cell_type": "markdown",
   "id": "012f690e",
   "metadata": {},
   "source": [
    "# Best model"
   ]
  },
  {
   "cell_type": "code",
   "execution_count": 20,
   "id": "d0c91641",
   "metadata": {},
   "outputs": [
    {
     "data": {
      "text/plain": [
       "array([2, 4, 1, ..., 1, 2, 2], dtype=int64)"
      ]
     },
     "execution_count": 20,
     "metadata": {},
     "output_type": "execute_result"
    }
   ],
   "source": [
    "best_params = {'max_iter' : 1000, 'C': 100.0, 'penalty': 'l2', 'multi_class': 'auto', 'solver': 'sag'}\n",
    "best_model = LogisticRegression(**best_params)\n",
    "best_model.fit(x_train,y_train)\n",
    "y_pred1=best_model.predict(x_test)\n",
    "y_pred1"
   ]
  },
  {
   "cell_type": "code",
   "execution_count": 21,
   "id": "18e7c9e6",
   "metadata": {},
   "outputs": [
    {
     "name": "stdout",
     "output_type": "stream",
     "text": [
      "accuracy_score:  0.802159660624759\n",
      "precision_score:  0.8013312112611557\n",
      "recall_score:  0.802159660624759\n",
      "f1_micro:  0.802159660624759\n",
      "f1_macro:  0.5739514559202237\n",
      "auc_score:  0.9417674974826051\n"
     ]
    }
   ],
   "source": [
    "from sklearn.metrics import accuracy_score, precision_score, recall_score, f1_score, roc_auc_score\n",
    "accuracy = accuracy_score(y_test, y_pred1)\n",
    "precision = precision_score(y_test, y_pred1, average='weighted')\n",
    "recall = recall_score(y_test, y_pred1, average='weighted')\n",
    "f1_micro = f1_score(y_test, y_pred1, average='micro')\n",
    "f1_macro = f1_score(y_test, y_pred1, average='macro')\n",
    "auc = roc_auc_score(y_test, best_model.predict_proba(x_test), multi_class='ovr')\n",
    "print('accuracy_score: ',accuracy)\n",
    "print('precision_score: ',precision)\n",
    "print('recall_score: ',recall)\n",
    "print('f1_micro: ',f1_micro)\n",
    "print('f1_macro: ',f1_macro)\n",
    "print('auc_score: ', auc)"
   ]
  },
  {
   "cell_type": "code",
   "execution_count": 22,
   "id": "d644df74",
   "metadata": {},
   "outputs": [
    {
     "name": "stdout",
     "output_type": "stream",
     "text": [
      "Confusion matrix :\n",
      " [[   3   10    6    0    2]\n",
      " [   4  490   32    0   18]\n",
      " [   2   74 1208    0  131]\n",
      " [   0   23   10    8    2]\n",
      " [   2   25  172    0  371]]\n",
      "\n",
      "Classification report :\n",
      "               precision    recall  f1-score   support\n",
      "\n",
      "           0       0.27      0.14      0.19        21\n",
      "           1       0.79      0.90      0.84       544\n",
      "           2       0.85      0.85      0.85      1415\n",
      "           3       1.00      0.19      0.31        43\n",
      "           4       0.71      0.65      0.68       570\n",
      "\n",
      "    accuracy                           0.80      2593\n",
      "   macro avg       0.72      0.55      0.57      2593\n",
      "weighted avg       0.80      0.80      0.80      2593\n",
      "\n"
     ]
    }
   ],
   "source": [
    "from sklearn.metrics import confusion_matrix, classification_report, roc_curve, auc\n",
    "\n",
    "print('Confusion matrix :\\n {0}\\n'.format(confusion_matrix(y_test, y_pred1)))\n",
    "print('Classification report :\\n {0}'.format(classification_report(y_test, y_pred1)))"
   ]
  },
  {
   "cell_type": "code",
   "execution_count": 23,
   "id": "571da586",
   "metadata": {},
   "outputs": [
    {
     "data": {
      "text/plain": [
       "(2593, 5)"
      ]
     },
     "execution_count": 23,
     "metadata": {},
     "output_type": "execute_result"
    }
   ],
   "source": [
    "from sklearn.preprocessing import LabelBinarizer\n",
    "n_classes = len(np.unique(y))\n",
    "y_score = best_model.fit(x_train, y_train).predict_proba(x_test)\n",
    "label_binarizer = LabelBinarizer().fit(y_train)\n",
    "y_onehot_test = label_binarizer.transform(y_test)\n",
    "y_onehot_test.shape  # (n_samples, n_classes)"
   ]
  },
  {
   "cell_type": "code",
   "execution_count": 24,
   "id": "542ccab1",
   "metadata": {},
   "outputs": [
    {
     "data": {
      "text/plain": [
       "Text(0, 0.5, 'True Positive Rate')"
      ]
     },
     "execution_count": 24,
     "metadata": {},
     "output_type": "execute_result"
    },
    {
     "data": {
      "image/png": "[encoded data removed]",
      "text/plain": [
       "<Figure size 600x600 with 1 Axes>"
      ]
     },
     "metadata": {},
     "output_type": "display_data"
    }
   ],
   "source": [
    "from itertools import cycle\n",
    "import matplotlib.pyplot as plt\n",
    "from sklearn.metrics import RocCurveDisplay\n",
    "fig, ax = plt.subplots(figsize=(6, 6))\n",
    "colors = cycle([\"aqua\", \"darkorange\", \"cornflowerblue\", 'darkgreen', 'red'])\n",
    "class_name = [ 'archaea', 'bacteria', 'eukaryote', 'bacteriophage', 'virus']\n",
    "for class_id, color in zip(range(n_classes), colors):\n",
    "    RocCurveDisplay.from_predictions(\n",
    "        y_onehot_test[:, class_id],\n",
    "        y_score[:, class_id],\n",
    "        name=f\"ROC curve for {class_name[class_id]}\",\n",
    "        color=color,\n",
    "        ax=ax,\n",
    "    )\n",
    "    \n",
    "plt.xlabel(\"False Positive Rate\")\n",
    "plt.ylabel(\"True Positive Rate\")"
   ]
  },
  {
   "cell_type": "code",
   "execution_count": null,
   "id": "64f58b78",
   "metadata": {},
   "outputs": [],
   "source": []
  }
 ],
 "metadata": {
  "kernelspec": {
   "display_name": "Python 3 (ipykernel)",
   "language": "python",
   "name": "python3"
  },
  "language_info": {
   "codemirror_mode": {
    "name": "ipython",
    "version": 3
   },
   "file_extension": ".py",
   "mimetype": "text/x-python",
   "name": "python",
   "nbconvert_exporter": "python",
   "pygments_lexer": "ipython3",
   "version": "3.9.12"
  }
 },
 "nbformat": 4,
 "nbformat_minor": 5
}
