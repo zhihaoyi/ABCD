{
 "cells": [
  {
   "cell_type": "markdown",
   "id": "6dd98154",
   "metadata": {},
   "source": [
    "# Library&Package Import"
   ]
  },
  {
   "cell_type": "code",
   "execution_count": 1,
   "id": "2715a7a2",
   "metadata": {},
   "outputs": [],
   "source": [
    "import pandas as pd\n",
    "import numpy as np"
   ]
  },
  {
   "cell_type": "markdown",
   "id": "718185be",
   "metadata": {},
   "source": [
    "## Export the dataset:"
   ]
  },
  {
   "cell_type": "code",
   "execution_count": 2,
   "id": "f98ea905",
   "metadata": {},
   "outputs": [
    {
     "data": {
      "text/html": [
       "<div>\n",
       "<style scoped>\n",
       "    .dataframe tbody tr th:only-of-type {\n",
       "        vertical-align: middle;\n",
       "    }\n",
       "\n",
       "    .dataframe tbody tr th {\n",
       "        vertical-align: top;\n",
       "    }\n",
       "\n",
       "    .dataframe thead th {\n",
       "        text-align: right;\n",
       "    }\n",
       "</style>\n",
       "<table border=\"1\" class=\"dataframe\">\n",
       "  <thead>\n",
       "    <tr style=\"text-align: right;\">\n",
       "      <th></th>\n",
       "      <th>Unnamed: 0</th>\n",
       "      <th>Kingdom</th>\n",
       "      <th>DNAtype</th>\n",
       "      <th>UUU</th>\n",
       "      <th>UUC</th>\n",
       "      <th>UUA</th>\n",
       "      <th>UUG</th>\n",
       "      <th>CUU</th>\n",
       "      <th>CUC</th>\n",
       "      <th>CUA</th>\n",
       "      <th>...</th>\n",
       "      <th>CGG</th>\n",
       "      <th>AGA</th>\n",
       "      <th>AGG</th>\n",
       "      <th>GAU</th>\n",
       "      <th>GAC</th>\n",
       "      <th>GAA</th>\n",
       "      <th>GAG</th>\n",
       "      <th>UAA</th>\n",
       "      <th>UAG</th>\n",
       "      <th>UGA</th>\n",
       "    </tr>\n",
       "  </thead>\n",
       "  <tbody>\n",
       "    <tr>\n",
       "      <th>0</th>\n",
       "      <td>0</td>\n",
       "      <td>4</td>\n",
       "      <td>0</td>\n",
       "      <td>0.01654</td>\n",
       "      <td>0.01203</td>\n",
       "      <td>0.00050</td>\n",
       "      <td>0.00351</td>\n",
       "      <td>0.01203</td>\n",
       "      <td>0.03208</td>\n",
       "      <td>0.00100</td>\n",
       "      <td>...</td>\n",
       "      <td>0.00451</td>\n",
       "      <td>0.01303</td>\n",
       "      <td>0.03559</td>\n",
       "      <td>0.01003</td>\n",
       "      <td>0.04612</td>\n",
       "      <td>0.01203</td>\n",
       "      <td>0.04361</td>\n",
       "      <td>0.00251</td>\n",
       "      <td>0.00050</td>\n",
       "      <td>0.00000</td>\n",
       "    </tr>\n",
       "    <tr>\n",
       "      <th>1</th>\n",
       "      <td>1</td>\n",
       "      <td>4</td>\n",
       "      <td>0</td>\n",
       "      <td>0.02714</td>\n",
       "      <td>0.01357</td>\n",
       "      <td>0.00068</td>\n",
       "      <td>0.00678</td>\n",
       "      <td>0.00407</td>\n",
       "      <td>0.02849</td>\n",
       "      <td>0.00204</td>\n",
       "      <td>...</td>\n",
       "      <td>0.00136</td>\n",
       "      <td>0.01696</td>\n",
       "      <td>0.03596</td>\n",
       "      <td>0.01221</td>\n",
       "      <td>0.04545</td>\n",
       "      <td>0.01560</td>\n",
       "      <td>0.04410</td>\n",
       "      <td>0.00271</td>\n",
       "      <td>0.00068</td>\n",
       "      <td>0.00000</td>\n",
       "    </tr>\n",
       "    <tr>\n",
       "      <th>2</th>\n",
       "      <td>2</td>\n",
       "      <td>4</td>\n",
       "      <td>0</td>\n",
       "      <td>0.01974</td>\n",
       "      <td>0.02180</td>\n",
       "      <td>0.01357</td>\n",
       "      <td>0.01543</td>\n",
       "      <td>0.00782</td>\n",
       "      <td>0.01111</td>\n",
       "      <td>0.01028</td>\n",
       "      <td>...</td>\n",
       "      <td>0.00596</td>\n",
       "      <td>0.01974</td>\n",
       "      <td>0.02489</td>\n",
       "      <td>0.03126</td>\n",
       "      <td>0.02036</td>\n",
       "      <td>0.02242</td>\n",
       "      <td>0.02468</td>\n",
       "      <td>0.00391</td>\n",
       "      <td>0.00000</td>\n",
       "      <td>0.00144</td>\n",
       "    </tr>\n",
       "    <tr>\n",
       "      <th>3</th>\n",
       "      <td>3</td>\n",
       "      <td>4</td>\n",
       "      <td>0</td>\n",
       "      <td>0.01775</td>\n",
       "      <td>0.02245</td>\n",
       "      <td>0.01619</td>\n",
       "      <td>0.00992</td>\n",
       "      <td>0.01567</td>\n",
       "      <td>0.01358</td>\n",
       "      <td>0.00940</td>\n",
       "      <td>...</td>\n",
       "      <td>0.00366</td>\n",
       "      <td>0.01410</td>\n",
       "      <td>0.01671</td>\n",
       "      <td>0.03760</td>\n",
       "      <td>0.01932</td>\n",
       "      <td>0.03029</td>\n",
       "      <td>0.03446</td>\n",
       "      <td>0.00261</td>\n",
       "      <td>0.00157</td>\n",
       "      <td>0.00000</td>\n",
       "    </tr>\n",
       "    <tr>\n",
       "      <th>4</th>\n",
       "      <td>4</td>\n",
       "      <td>4</td>\n",
       "      <td>0</td>\n",
       "      <td>0.02816</td>\n",
       "      <td>0.01371</td>\n",
       "      <td>0.00767</td>\n",
       "      <td>0.03679</td>\n",
       "      <td>0.01380</td>\n",
       "      <td>0.00548</td>\n",
       "      <td>0.00473</td>\n",
       "      <td>...</td>\n",
       "      <td>0.00604</td>\n",
       "      <td>0.01494</td>\n",
       "      <td>0.01734</td>\n",
       "      <td>0.04148</td>\n",
       "      <td>0.02483</td>\n",
       "      <td>0.03359</td>\n",
       "      <td>0.03679</td>\n",
       "      <td>0.00000</td>\n",
       "      <td>0.00044</td>\n",
       "      <td>0.00131</td>\n",
       "    </tr>\n",
       "    <tr>\n",
       "      <th>...</th>\n",
       "      <td>...</td>\n",
       "      <td>...</td>\n",
       "      <td>...</td>\n",
       "      <td>...</td>\n",
       "      <td>...</td>\n",
       "      <td>...</td>\n",
       "      <td>...</td>\n",
       "      <td>...</td>\n",
       "      <td>...</td>\n",
       "      <td>...</td>\n",
       "      <td>...</td>\n",
       "      <td>...</td>\n",
       "      <td>...</td>\n",
       "      <td>...</td>\n",
       "      <td>...</td>\n",
       "      <td>...</td>\n",
       "      <td>...</td>\n",
       "      <td>...</td>\n",
       "      <td>...</td>\n",
       "      <td>...</td>\n",
       "      <td>...</td>\n",
       "    </tr>\n",
       "    <tr>\n",
       "      <th>12957</th>\n",
       "      <td>12957</td>\n",
       "      <td>2</td>\n",
       "      <td>0</td>\n",
       "      <td>0.02552</td>\n",
       "      <td>0.03555</td>\n",
       "      <td>0.00547</td>\n",
       "      <td>0.01367</td>\n",
       "      <td>0.01276</td>\n",
       "      <td>0.02097</td>\n",
       "      <td>0.00820</td>\n",
       "      <td>...</td>\n",
       "      <td>0.00820</td>\n",
       "      <td>0.01367</td>\n",
       "      <td>0.01094</td>\n",
       "      <td>0.01367</td>\n",
       "      <td>0.02279</td>\n",
       "      <td>0.02005</td>\n",
       "      <td>0.04102</td>\n",
       "      <td>0.00091</td>\n",
       "      <td>0.00091</td>\n",
       "      <td>0.00638</td>\n",
       "    </tr>\n",
       "    <tr>\n",
       "      <th>12958</th>\n",
       "      <td>12958</td>\n",
       "      <td>2</td>\n",
       "      <td>1</td>\n",
       "      <td>0.01258</td>\n",
       "      <td>0.03193</td>\n",
       "      <td>0.01984</td>\n",
       "      <td>0.00629</td>\n",
       "      <td>0.01451</td>\n",
       "      <td>0.05322</td>\n",
       "      <td>0.07644</td>\n",
       "      <td>...</td>\n",
       "      <td>0.00145</td>\n",
       "      <td>0.00000</td>\n",
       "      <td>0.00048</td>\n",
       "      <td>0.00194</td>\n",
       "      <td>0.01306</td>\n",
       "      <td>0.01838</td>\n",
       "      <td>0.00677</td>\n",
       "      <td>0.00242</td>\n",
       "      <td>0.00097</td>\n",
       "      <td>0.01887</td>\n",
       "    </tr>\n",
       "    <tr>\n",
       "      <th>12959</th>\n",
       "      <td>12959</td>\n",
       "      <td>2</td>\n",
       "      <td>1</td>\n",
       "      <td>0.01423</td>\n",
       "      <td>0.03321</td>\n",
       "      <td>0.01661</td>\n",
       "      <td>0.00356</td>\n",
       "      <td>0.01127</td>\n",
       "      <td>0.05042</td>\n",
       "      <td>0.09609</td>\n",
       "      <td>...</td>\n",
       "      <td>0.00000</td>\n",
       "      <td>0.00000</td>\n",
       "      <td>0.00000</td>\n",
       "      <td>0.00178</td>\n",
       "      <td>0.01661</td>\n",
       "      <td>0.02788</td>\n",
       "      <td>0.00297</td>\n",
       "      <td>0.00356</td>\n",
       "      <td>0.00119</td>\n",
       "      <td>0.02017</td>\n",
       "    </tr>\n",
       "    <tr>\n",
       "      <th>12960</th>\n",
       "      <td>12960</td>\n",
       "      <td>2</td>\n",
       "      <td>0</td>\n",
       "      <td>0.01757</td>\n",
       "      <td>0.02028</td>\n",
       "      <td>0.00767</td>\n",
       "      <td>0.01293</td>\n",
       "      <td>0.01319</td>\n",
       "      <td>0.01959</td>\n",
       "      <td>0.00715</td>\n",
       "      <td>...</td>\n",
       "      <td>0.01142</td>\n",
       "      <td>0.01217</td>\n",
       "      <td>0.01196</td>\n",
       "      <td>0.02178</td>\n",
       "      <td>0.02510</td>\n",
       "      <td>0.02896</td>\n",
       "      <td>0.03959</td>\n",
       "      <td>0.00099</td>\n",
       "      <td>0.00079</td>\n",
       "      <td>0.00156</td>\n",
       "    </tr>\n",
       "    <tr>\n",
       "      <th>12961</th>\n",
       "      <td>12961</td>\n",
       "      <td>2</td>\n",
       "      <td>1</td>\n",
       "      <td>0.01778</td>\n",
       "      <td>0.03724</td>\n",
       "      <td>0.01732</td>\n",
       "      <td>0.00600</td>\n",
       "      <td>0.01689</td>\n",
       "      <td>0.03854</td>\n",
       "      <td>0.07000</td>\n",
       "      <td>...</td>\n",
       "      <td>0.00083</td>\n",
       "      <td>0.00041</td>\n",
       "      <td>0.00041</td>\n",
       "      <td>0.00451</td>\n",
       "      <td>0.01402</td>\n",
       "      <td>0.01651</td>\n",
       "      <td>0.00783</td>\n",
       "      <td>0.00156</td>\n",
       "      <td>0.00114</td>\n",
       "      <td>0.02161</td>\n",
       "    </tr>\n",
       "  </tbody>\n",
       "</table>\n",
       "<p>12962 rows × 67 columns</p>\n",
       "</div>"
      ],
      "text/plain": [
       "       Unnamed: 0  Kingdom  DNAtype      UUU      UUC      UUA      UUG  \\\n",
       "0               0        4        0  0.01654  0.01203  0.00050  0.00351   \n",
       "1               1        4        0  0.02714  0.01357  0.00068  0.00678   \n",
       "2               2        4        0  0.01974  0.02180  0.01357  0.01543   \n",
       "3               3        4        0  0.01775  0.02245  0.01619  0.00992   \n",
       "4               4        4        0  0.02816  0.01371  0.00767  0.03679   \n",
       "...           ...      ...      ...      ...      ...      ...      ...   \n",
       "12957       12957        2        0  0.02552  0.03555  0.00547  0.01367   \n",
       "12958       12958        2        1  0.01258  0.03193  0.01984  0.00629   \n",
       "12959       12959        2        1  0.01423  0.03321  0.01661  0.00356   \n",
       "12960       12960        2        0  0.01757  0.02028  0.00767  0.01293   \n",
       "12961       12961        2        1  0.01778  0.03724  0.01732  0.00600   \n",
       "\n",
       "           CUU      CUC      CUA  ...      CGG      AGA      AGG      GAU  \\\n",
       "0      0.01203  0.03208  0.00100  ...  0.00451  0.01303  0.03559  0.01003   \n",
       "1      0.00407  0.02849  0.00204  ...  0.00136  0.01696  0.03596  0.01221   \n",
       "2      0.00782  0.01111  0.01028  ...  0.00596  0.01974  0.02489  0.03126   \n",
       "3      0.01567  0.01358  0.00940  ...  0.00366  0.01410  0.01671  0.03760   \n",
       "4      0.01380  0.00548  0.00473  ...  0.00604  0.01494  0.01734  0.04148   \n",
       "...        ...      ...      ...  ...      ...      ...      ...      ...   \n",
       "12957  0.01276  0.02097  0.00820  ...  0.00820  0.01367  0.01094  0.01367   \n",
       "12958  0.01451  0.05322  0.07644  ...  0.00145  0.00000  0.00048  0.00194   \n",
       "12959  0.01127  0.05042  0.09609  ...  0.00000  0.00000  0.00000  0.00178   \n",
       "12960  0.01319  0.01959  0.00715  ...  0.01142  0.01217  0.01196  0.02178   \n",
       "12961  0.01689  0.03854  0.07000  ...  0.00083  0.00041  0.00041  0.00451   \n",
       "\n",
       "           GAC      GAA      GAG      UAA      UAG      UGA  \n",
       "0      0.04612  0.01203  0.04361  0.00251  0.00050  0.00000  \n",
       "1      0.04545  0.01560  0.04410  0.00271  0.00068  0.00000  \n",
       "2      0.02036  0.02242  0.02468  0.00391  0.00000  0.00144  \n",
       "3      0.01932  0.03029  0.03446  0.00261  0.00157  0.00000  \n",
       "4      0.02483  0.03359  0.03679  0.00000  0.00044  0.00131  \n",
       "...        ...      ...      ...      ...      ...      ...  \n",
       "12957  0.02279  0.02005  0.04102  0.00091  0.00091  0.00638  \n",
       "12958  0.01306  0.01838  0.00677  0.00242  0.00097  0.01887  \n",
       "12959  0.01661  0.02788  0.00297  0.00356  0.00119  0.02017  \n",
       "12960  0.02510  0.02896  0.03959  0.00099  0.00079  0.00156  \n",
       "12961  0.01402  0.01651  0.00783  0.00156  0.00114  0.02161  \n",
       "\n",
       "[12962 rows x 67 columns]"
      ]
     },
     "execution_count": 2,
     "metadata": {},
     "output_type": "execute_result"
    }
   ],
   "source": [
    "dna_df = pd.read_csv(\"cleaned_codon_usage.csv\")\n",
    "dna_df"
   ]
  },
  {
   "cell_type": "markdown",
   "id": "c6e00052",
   "metadata": {},
   "source": [
    "## Normalization:"
   ]
  },
  {
   "cell_type": "code",
   "execution_count": 3,
   "id": "cbb0b45e",
   "metadata": {},
   "outputs": [
    {
     "data": {
      "text/plain": [
       "array([[0.07611597, 0.13120297, 0.00330404, ..., 0.05553097, 0.01952362,\n",
       "        0.        ],\n",
       "       [0.12489646, 0.14799869, 0.00449349, ..., 0.05995575, 0.02655213,\n",
       "        0.        ],\n",
       "       [0.09084215, 0.23775766, 0.08967158, ..., 0.08650442, 0.        ,\n",
       "        0.01349578],\n",
       "       ...,\n",
       "       [0.0654855 , 0.36219871, 0.10976013, ..., 0.07876106, 0.04646622,\n",
       "        0.18903468],\n",
       "       [0.08085596, 0.22118006, 0.05068394, ..., 0.02190265, 0.03084733,\n",
       "        0.01462043],\n",
       "       [0.08182237, 0.40615116, 0.11445186, ..., 0.03451327, 0.04451386,\n",
       "        0.20253046]])"
      ]
     },
     "execution_count": 3,
     "metadata": {},
     "output_type": "execute_result"
    }
   ],
   "source": [
    "from sklearn.preprocessing import MinMaxScaler\n",
    "y = dna_df['DNAtype']\n",
    "x = dna_df.drop(columns=['Unnamed: 0','DNAtype','Kingdom'])\n",
    "scaler = MinMaxScaler( )\n",
    "x_scaled = scaler.fit_transform(x)\n",
    "x_scaled"
   ]
  },
  {
   "cell_type": "markdown",
   "id": "b31ddc41",
   "metadata": {},
   "source": [
    "## Data split:"
   ]
  },
  {
   "cell_type": "code",
   "execution_count": 4,
   "id": "5b4b8a79",
   "metadata": {},
   "outputs": [
    {
     "name": "stdout",
     "output_type": "stream",
     "text": [
      "(10369, 64) (2593, 64) (10369,) (2593,)\n"
     ]
    }
   ],
   "source": [
    "from sklearn.model_selection import train_test_split\n",
    "x_train, x_test, y_train, y_test = train_test_split(x_scaled, y, test_size=0.20, random_state = 100)\n",
    "print(x_train.shape, x_test.shape, y_train.shape, y_test.shape)"
   ]
  },
  {
   "cell_type": "markdown",
   "id": "43c1cd81",
   "metadata": {},
   "source": [
    "## Model training:"
   ]
  },
  {
   "cell_type": "code",
   "execution_count": 5,
   "id": "00e8affe",
   "metadata": {},
   "outputs": [
    {
     "name": "stdout",
     "output_type": "stream",
     "text": [
      "Epoch 1/15\n",
      "325/325 [==============================] - 7s 4ms/step - loss: 0.6397 - accuracy: 0.7360 - val_loss: 0.5182 - val_accuracy: 0.8434\n",
      "Epoch 2/15\n",
      "325/325 [==============================] - 0s 2ms/step - loss: 0.4434 - accuracy: 0.8934 - val_loss: 0.3789 - val_accuracy: 0.9125\n",
      "Epoch 3/15\n",
      "325/325 [==============================] - 1s 2ms/step - loss: 0.3400 - accuracy: 0.9142 - val_loss: 0.3042 - val_accuracy: 0.9167\n",
      "Epoch 4/15\n",
      "325/325 [==============================] - 0s 1ms/step - loss: 0.2822 - accuracy: 0.9186 - val_loss: 0.2602 - val_accuracy: 0.9186\n",
      "Epoch 5/15\n",
      "325/325 [==============================] - 0s 1ms/step - loss: 0.2461 - accuracy: 0.9213 - val_loss: 0.2312 - val_accuracy: 0.9202\n",
      "Epoch 6/15\n",
      "325/325 [==============================] - 0s 2ms/step - loss: 0.2213 - accuracy: 0.9230 - val_loss: 0.2107 - val_accuracy: 0.9221\n",
      "Epoch 7/15\n",
      "325/325 [==============================] - 0s 2ms/step - loss: 0.2027 - accuracy: 0.9242 - val_loss: 0.1949 - val_accuracy: 0.9233\n",
      "Epoch 8/15\n",
      "325/325 [==============================] - 0s 1ms/step - loss: 0.1880 - accuracy: 0.9253 - val_loss: 0.1819 - val_accuracy: 0.9248\n",
      "Epoch 9/15\n",
      "325/325 [==============================] - 1s 2ms/step - loss: 0.1762 - accuracy: 0.9260 - val_loss: 0.1715 - val_accuracy: 0.9263\n",
      "Epoch 10/15\n",
      "325/325 [==============================] - 1s 2ms/step - loss: 0.1663 - accuracy: 0.9270 - val_loss: 0.1630 - val_accuracy: 0.9256\n",
      "Epoch 11/15\n",
      "325/325 [==============================] - 1s 2ms/step - loss: 0.1578 - accuracy: 0.9282 - val_loss: 0.1563 - val_accuracy: 0.9352\n",
      "Epoch 12/15\n",
      "325/325 [==============================] - 1s 2ms/step - loss: 0.1505 - accuracy: 0.9363 - val_loss: 0.1479 - val_accuracy: 0.9406\n",
      "Epoch 13/15\n",
      "325/325 [==============================] - 1s 2ms/step - loss: 0.1435 - accuracy: 0.9453 - val_loss: 0.1417 - val_accuracy: 0.9495\n",
      "Epoch 14/15\n",
      "325/325 [==============================] - 0s 1ms/step - loss: 0.1374 - accuracy: 0.9514 - val_loss: 0.1361 - val_accuracy: 0.9553\n",
      "Epoch 15/15\n",
      "325/325 [==============================] - 1s 2ms/step - loss: 0.1318 - accuracy: 0.9556 - val_loss: 0.1310 - val_accuracy: 0.9568\n"
     ]
    }
   ],
   "source": [
    "import tensorflow as tf\n",
    "from tensorflow.keras.models import Sequential\n",
    "from tensorflow.keras.layers import Dense\n",
    "\n",
    "model = tf.keras.models.Sequential([\n",
    "  tf.keras.layers.Dense(9, activation='relu'),\n",
    "  tf.keras.layers.Dense(3, activation='softmax')\n",
    "])\n",
    "\n",
    "\n",
    "model.compile(loss='sparse_categorical_crossentropy', optimizer='SGD', metrics=['accuracy'])\n",
    "history_LSTM = model.fit(x_train, y_train, batch_size=32, epochs=15, validation_data=(x_test, y_test)) \n"
   ]
  },
  {
   "cell_type": "code",
   "execution_count": 6,
   "id": "d25240fe",
   "metadata": {},
   "outputs": [
    {
     "name": "stdout",
     "output_type": "stream",
     "text": [
      "82/82 [==============================] - 0s 860us/step\n"
     ]
    }
   ],
   "source": [
    "y_pred = model.predict(x_test)\n",
    "y_pred1 = np.zeros(y_pred.shape[0])\n",
    "for index, value in enumerate(y_pred):\n",
    "    y_pred1[index] = np.argmax(y_pred[index])"
   ]
  },
  {
   "cell_type": "code",
   "execution_count": 7,
   "id": "6487f8f0",
   "metadata": {},
   "outputs": [
    {
     "name": "stdout",
     "output_type": "stream",
     "text": [
      "precision_score:  0.9568067875048206\n",
      "recall_score:  0.9568067875048206\n",
      "f1_micro_score:  0.9568067875048206\n",
      "accuracy_score:  0.9568067875048206\n"
     ]
    }
   ],
   "source": [
    "from sklearn.metrics import accuracy_score, precision_score, recall_score, f1_score\n",
    "accuracy = accuracy_score(y_test, y_pred1)\n",
    "precision = precision_score(y_test, y_pred1, average='micro')\n",
    "recall = recall_score(y_test, y_pred1, average='micro')\n",
    "f1 = f1_score(y_test, y_pred1, average='micro')\n",
    "\n",
    "print('precision_score: ',precision)\n",
    "print('recall_score: ',recall)\n",
    "print('f1_micro_score: ',f1)\n",
    "print('accuracy_score: ',accuracy)"
   ]
  },
  {
   "cell_type": "code",
   "execution_count": 8,
   "id": "7e806ae0",
   "metadata": {},
   "outputs": [
    {
     "data": {
      "text/plain": [
       "Text(0.5, 1.0, 'Training and Validation Loss')"
      ]
     },
     "execution_count": 8,
     "metadata": {},
     "output_type": "execute_result"
    },
    {
     "data": {
      "image/png": "[encoded data removed]",
      "text/plain": [
       "<Figure size 600x600 with 2 Axes>"
      ]
     },
     "metadata": {},
     "output_type": "display_data"
    }
   ],
   "source": [
    "import matplotlib.pyplot as plt\n",
    "acc = history_LSTM.history['accuracy']\n",
    "val_acc = history_LSTM.history['val_accuracy']\n",
    "\n",
    "loss = history_LSTM.history['loss']\n",
    "val_loss = history_LSTM.history['val_loss']\n",
    "\n",
    "plt.figure(figsize=(6, 6))\n",
    "plt.subplot(2, 1, 1)\n",
    "plt.plot(acc, label='Training Acc.')\n",
    "plt.plot(val_acc, label='Validation Acc.')\n",
    "plt.legend()\n",
    "plt.ylabel('Accuracy')\n",
    "plt.title('Training and Validation Accuracy')\n",
    "\n",
    "plt.subplot(2, 1, 2)\n",
    "plt.plot(loss, label='Training Loss')\n",
    "plt.plot(val_loss, label='Validation Loss')\n",
    "plt.legend()\n",
    "plt.xlabel('Epoch')\n",
    "plt.ylabel('Loss')\n",
    "plt.title('Training and Validation Loss')"
   ]
  },
  {
   "cell_type": "code",
   "execution_count": 9,
   "id": "9ef40346",
   "metadata": {},
   "outputs": [
    {
     "name": "stdout",
     "output_type": "stream",
     "text": [
      "Confusion matrix :\n",
      " [[1851    1    0]\n",
      " [  20  558    1]\n",
      " [  81    9   72]]\n",
      "\n",
      "Classification report :\n",
      "               precision    recall  f1-score   support\n",
      "\n",
      "           0       0.95      1.00      0.97      1852\n",
      "           1       0.98      0.96      0.97       579\n",
      "           2       0.99      0.44      0.61       162\n",
      "\n",
      "    accuracy                           0.96      2593\n",
      "   macro avg       0.97      0.80      0.85      2593\n",
      "weighted avg       0.96      0.96      0.95      2593\n",
      "\n"
     ]
    }
   ],
   "source": [
    "from sklearn.metrics import confusion_matrix, classification_report\n",
    "print('Confusion matrix :\\n {0}\\n'.format(confusion_matrix(y_test, y_pred1)))\n",
    "print('Classification report :\\n {0}'.format(classification_report(y_test, y_pred1)))"
   ]
  },
  {
   "cell_type": "markdown",
   "id": "70ba4daf",
   "metadata": {},
   "source": [
    "## Optimized Model:"
   ]
  },
  {
   "cell_type": "code",
   "execution_count": 10,
   "id": "624c48a6",
   "metadata": {},
   "outputs": [
    {
     "name": "stdout",
     "output_type": "stream",
     "text": [
      "Epoch 1/15\n",
      "325/325 [==============================] - 2s 3ms/step - loss: 0.1723 - accuracy: 0.9433 - val_loss: 0.0469 - val_accuracy: 0.9850\n",
      "Epoch 2/15\n",
      "325/325 [==============================] - 1s 2ms/step - loss: 0.0374 - accuracy: 0.9886 - val_loss: 0.0445 - val_accuracy: 0.9838\n",
      "Epoch 3/15\n",
      "325/325 [==============================] - 1s 2ms/step - loss: 0.0289 - accuracy: 0.9917 - val_loss: 0.0316 - val_accuracy: 0.9896\n",
      "Epoch 4/15\n",
      "325/325 [==============================] - 1s 2ms/step - loss: 0.0243 - accuracy: 0.9922 - val_loss: 0.0267 - val_accuracy: 0.9907\n",
      "Epoch 5/15\n",
      "325/325 [==============================] - 1s 2ms/step - loss: 0.0229 - accuracy: 0.9927 - val_loss: 0.0284 - val_accuracy: 0.9904\n",
      "Epoch 6/15\n",
      "325/325 [==============================] - 1s 2ms/step - loss: 0.0225 - accuracy: 0.9924 - val_loss: 0.0276 - val_accuracy: 0.9934\n",
      "Epoch 7/15\n",
      "325/325 [==============================] - 1s 2ms/step - loss: 0.0215 - accuracy: 0.9932 - val_loss: 0.0282 - val_accuracy: 0.9931\n",
      "Epoch 8/15\n",
      "325/325 [==============================] - 1s 2ms/step - loss: 0.0181 - accuracy: 0.9939 - val_loss: 0.0257 - val_accuracy: 0.9919\n",
      "Epoch 9/15\n",
      "325/325 [==============================] - 1s 2ms/step - loss: 0.0183 - accuracy: 0.9944 - val_loss: 0.0261 - val_accuracy: 0.9907\n",
      "Epoch 10/15\n",
      "325/325 [==============================] - 1s 2ms/step - loss: 0.0168 - accuracy: 0.9947 - val_loss: 0.0375 - val_accuracy: 0.9892\n",
      "Epoch 11/15\n",
      "325/325 [==============================] - 1s 2ms/step - loss: 0.0163 - accuracy: 0.9948 - val_loss: 0.0248 - val_accuracy: 0.9942\n",
      "Epoch 12/15\n",
      "325/325 [==============================] - 1s 2ms/step - loss: 0.0139 - accuracy: 0.9960 - val_loss: 0.0250 - val_accuracy: 0.9938\n",
      "Epoch 13/15\n",
      "325/325 [==============================] - 1s 2ms/step - loss: 0.0126 - accuracy: 0.9962 - val_loss: 0.0256 - val_accuracy: 0.9927\n",
      "Epoch 14/15\n",
      "325/325 [==============================] - 1s 2ms/step - loss: 0.0136 - accuracy: 0.9950 - val_loss: 0.0261 - val_accuracy: 0.9934\n",
      "Epoch 15/15\n",
      "325/325 [==============================] - 1s 2ms/step - loss: 0.0124 - accuracy: 0.9962 - val_loss: 0.0294 - val_accuracy: 0.9934\n"
     ]
    }
   ],
   "source": [
    "model1 = tf.keras.models.Sequential([\n",
    "  tf.keras.layers.Dense(128, activation='relu'),\n",
    "  tf.keras.layers.Dense(32, activation='relu'),  \n",
    "  tf.keras.layers.Dense(3, activation='softmax')\n",
    "])\n",
    "\n",
    "\n",
    "model1.compile(loss='sparse_categorical_crossentropy', optimizer='Adam', metrics=['accuracy'])\n",
    "history_LSTM1 = model1.fit(x_train, y_train, batch_size=32, epochs=15, validation_data=(x_test, y_test)) \n"
   ]
  },
  {
   "cell_type": "code",
   "execution_count": 11,
   "id": "c00495f3",
   "metadata": {},
   "outputs": [
    {
     "name": "stdout",
     "output_type": "stream",
     "text": [
      "82/82 [==============================] - 0s 1ms/step\n"
     ]
    }
   ],
   "source": [
    "y_pred = model1.predict(x_test)\n",
    "y_pred1 = np.zeros(y_pred.shape[0])\n",
    "for index, value in enumerate(y_pred):\n",
    "    y_pred1[index] = np.argmax(y_pred[index])"
   ]
  },
  {
   "cell_type": "code",
   "execution_count": 15,
   "id": "f2013100",
   "metadata": {},
   "outputs": [
    {
     "name": "stdout",
     "output_type": "stream",
     "text": [
      "accuracy_score:  0.9934438873891246\n",
      "precision_score:  0.9934936554766272\n",
      "recall_score:  0.9934438873891246\n",
      "f1_micro:  0.9934438873891246\n",
      "f1_macro:  0.9830435474959813\n"
     ]
    }
   ],
   "source": [
    "from sklearn.metrics import accuracy_score, precision_score, recall_score, f1_score\n",
    "accuracy = accuracy_score(y_test, y_pred1)\n",
    "precision = precision_score(y_test, y_pred1, average='weighted')\n",
    "recall = recall_score(y_test, y_pred1, average='weighted')\n",
    "f1_micro = f1_score(y_test, y_pred1, average='micro')\n",
    "f1_macro = f1_score(y_test, y_pred1, average='macro')\n",
    "\n",
    "print('accuracy_score: ',accuracy)\n",
    "print('precision_score: ',precision)\n",
    "print('recall_score: ',recall)\n",
    "print('f1_micro: ',f1_micro)\n",
    "print('f1_macro: ',f1_macro)"
   ]
  },
  {
   "cell_type": "code",
   "execution_count": 13,
   "id": "88bd5d2e",
   "metadata": {},
   "outputs": [
    {
     "data": {
      "text/plain": [
       "Text(0.5, 1.0, 'Training and Validation Loss')"
      ]
     },
     "execution_count": 13,
     "metadata": {},
     "output_type": "execute_result"
    },
    {
     "data": {
      "image/png": "[encoded data removed]",
      "text/plain": [
       "<Figure size 600x600 with 2 Axes>"
      ]
     },
     "metadata": {},
     "output_type": "display_data"
    }
   ],
   "source": [
    "acc = history_LSTM1.history['accuracy']\n",
    "val_acc = history_LSTM1.history['val_accuracy']\n",
    "\n",
    "loss = history_LSTM1.history['loss']\n",
    "val_loss = history_LSTM1.history['val_loss']\n",
    "\n",
    "plt.figure(figsize=(6, 6))\n",
    "plt.subplot(2, 1, 1)\n",
    "plt.plot(acc, label='Training Acc.')\n",
    "plt.plot(val_acc, label='Validation Acc.')\n",
    "plt.legend()\n",
    "plt.ylabel('Accuracy')\n",
    "plt.title('Training and Validation Accuracy')\n",
    "\n",
    "plt.subplot(2, 1, 2)\n",
    "plt.plot(loss, label='Training Loss')\n",
    "plt.plot(val_loss, label='Validation Loss')\n",
    "plt.legend()\n",
    "plt.xlabel('Epoch')\n",
    "plt.ylabel('Loss')\n",
    "plt.title('Training and Validation Loss')"
   ]
  },
  {
   "cell_type": "code",
   "execution_count": 14,
   "id": "89664765",
   "metadata": {},
   "outputs": [
    {
     "name": "stdout",
     "output_type": "stream",
     "text": [
      "Confusion matrix :\n",
      " [[1849    3    0]\n",
      " [   2  577    0]\n",
      " [   6    6  150]]\n",
      "\n",
      "Classification report :\n",
      "               precision    recall  f1-score   support\n",
      "\n",
      "           0       1.00      1.00      1.00      1852\n",
      "           1       0.98      1.00      0.99       579\n",
      "           2       1.00      0.93      0.96       162\n",
      "\n",
      "    accuracy                           0.99      2593\n",
      "   macro avg       0.99      0.97      0.98      2593\n",
      "weighted avg       0.99      0.99      0.99      2593\n",
      "\n"
     ]
    }
   ],
   "source": [
    "from sklearn.metrics import confusion_matrix, classification_report\n",
    "print('Confusion matrix :\\n {0}\\n'.format(confusion_matrix(y_test, y_pred1)))\n",
    "print('Classification report :\\n {0}'.format(classification_report(y_test, y_pred1)))"
   ]
  },
  {
   "cell_type": "code",
   "execution_count": null,
   "id": "3bfe7a2a",
   "metadata": {},
   "outputs": [],
   "source": []
  }
 ],
 "metadata": {
  "kernelspec": {
   "display_name": "Python 3 (ipykernel)",
   "language": "python",
   "name": "python3"
  },
  "language_info": {
   "codemirror_mode": {
    "name": "ipython",
    "version": 3
   },
   "file_extension": ".py",
   "mimetype": "text/x-python",
   "name": "python",
   "nbconvert_exporter": "python",
   "pygments_lexer": "ipython3",
   "version": "3.9.12"
  }
 },
 "nbformat": 4,
 "nbformat_minor": 5
}
