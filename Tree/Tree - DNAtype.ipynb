{
 "cells": [
  {
   "cell_type": "markdown",
   "id": "971658ae",
   "metadata": {},
   "source": [
    "# Library&Package Import"
   ]
  },
  {
   "cell_type": "code",
   "execution_count": 1,
   "id": "7448b05f",
   "metadata": {},
   "outputs": [],
   "source": [
    "import pandas as pd\n",
    "import numpy as np"
   ]
  },
  {
   "cell_type": "markdown",
   "id": "7efeab69",
   "metadata": {},
   "source": [
    "## Export the dataset:"
   ]
  },
  {
   "cell_type": "code",
   "execution_count": 2,
   "id": "c473fa84",
   "metadata": {},
   "outputs": [
    {
     "data": {
      "text/html": [
       "<div>\n",
       "<style scoped>\n",
       "    .dataframe tbody tr th:only-of-type {\n",
       "        vertical-align: middle;\n",
       "    }\n",
       "\n",
       "    .dataframe tbody tr th {\n",
       "        vertical-align: top;\n",
       "    }\n",
       "\n",
       "    .dataframe thead th {\n",
       "        text-align: right;\n",
       "    }\n",
       "</style>\n",
       "<table border=\"1\" class=\"dataframe\">\n",
       "  <thead>\n",
       "    <tr style=\"text-align: right;\">\n",
       "      <th></th>\n",
       "      <th>Unnamed: 0</th>\n",
       "      <th>Kingdom</th>\n",
       "      <th>DNAtype</th>\n",
       "      <th>SpeciesID</th>\n",
       "      <th>Ncodons</th>\n",
       "      <th>UUU</th>\n",
       "      <th>UUC</th>\n",
       "      <th>UUA</th>\n",
       "      <th>UUG</th>\n",
       "      <th>CUU</th>\n",
       "      <th>...</th>\n",
       "      <th>CGG</th>\n",
       "      <th>AGA</th>\n",
       "      <th>AGG</th>\n",
       "      <th>GAU</th>\n",
       "      <th>GAC</th>\n",
       "      <th>GAA</th>\n",
       "      <th>GAG</th>\n",
       "      <th>UAA</th>\n",
       "      <th>UAG</th>\n",
       "      <th>UGA</th>\n",
       "    </tr>\n",
       "  </thead>\n",
       "  <tbody>\n",
       "    <tr>\n",
       "      <th>0</th>\n",
       "      <td>0</td>\n",
       "      <td>4</td>\n",
       "      <td>0</td>\n",
       "      <td>100217</td>\n",
       "      <td>1995</td>\n",
       "      <td>0.01654</td>\n",
       "      <td>0.01203</td>\n",
       "      <td>0.00050</td>\n",
       "      <td>0.00351</td>\n",
       "      <td>0.01203</td>\n",
       "      <td>...</td>\n",
       "      <td>0.00451</td>\n",
       "      <td>0.01303</td>\n",
       "      <td>0.03559</td>\n",
       "      <td>0.01003</td>\n",
       "      <td>0.04612</td>\n",
       "      <td>0.01203</td>\n",
       "      <td>0.04361</td>\n",
       "      <td>0.00251</td>\n",
       "      <td>0.00050</td>\n",
       "      <td>0.00000</td>\n",
       "    </tr>\n",
       "    <tr>\n",
       "      <th>1</th>\n",
       "      <td>1</td>\n",
       "      <td>4</td>\n",
       "      <td>0</td>\n",
       "      <td>100220</td>\n",
       "      <td>1474</td>\n",
       "      <td>0.02714</td>\n",
       "      <td>0.01357</td>\n",
       "      <td>0.00068</td>\n",
       "      <td>0.00678</td>\n",
       "      <td>0.00407</td>\n",
       "      <td>...</td>\n",
       "      <td>0.00136</td>\n",
       "      <td>0.01696</td>\n",
       "      <td>0.03596</td>\n",
       "      <td>0.01221</td>\n",
       "      <td>0.04545</td>\n",
       "      <td>0.01560</td>\n",
       "      <td>0.04410</td>\n",
       "      <td>0.00271</td>\n",
       "      <td>0.00068</td>\n",
       "      <td>0.00000</td>\n",
       "    </tr>\n",
       "    <tr>\n",
       "      <th>2</th>\n",
       "      <td>2</td>\n",
       "      <td>4</td>\n",
       "      <td>0</td>\n",
       "      <td>100755</td>\n",
       "      <td>4862</td>\n",
       "      <td>0.01974</td>\n",
       "      <td>0.02180</td>\n",
       "      <td>0.01357</td>\n",
       "      <td>0.01543</td>\n",
       "      <td>0.00782</td>\n",
       "      <td>...</td>\n",
       "      <td>0.00596</td>\n",
       "      <td>0.01974</td>\n",
       "      <td>0.02489</td>\n",
       "      <td>0.03126</td>\n",
       "      <td>0.02036</td>\n",
       "      <td>0.02242</td>\n",
       "      <td>0.02468</td>\n",
       "      <td>0.00391</td>\n",
       "      <td>0.00000</td>\n",
       "      <td>0.00144</td>\n",
       "    </tr>\n",
       "    <tr>\n",
       "      <th>3</th>\n",
       "      <td>3</td>\n",
       "      <td>4</td>\n",
       "      <td>0</td>\n",
       "      <td>100880</td>\n",
       "      <td>1915</td>\n",
       "      <td>0.01775</td>\n",
       "      <td>0.02245</td>\n",
       "      <td>0.01619</td>\n",
       "      <td>0.00992</td>\n",
       "      <td>0.01567</td>\n",
       "      <td>...</td>\n",
       "      <td>0.00366</td>\n",
       "      <td>0.01410</td>\n",
       "      <td>0.01671</td>\n",
       "      <td>0.03760</td>\n",
       "      <td>0.01932</td>\n",
       "      <td>0.03029</td>\n",
       "      <td>0.03446</td>\n",
       "      <td>0.00261</td>\n",
       "      <td>0.00157</td>\n",
       "      <td>0.00000</td>\n",
       "    </tr>\n",
       "    <tr>\n",
       "      <th>4</th>\n",
       "      <td>4</td>\n",
       "      <td>4</td>\n",
       "      <td>0</td>\n",
       "      <td>100887</td>\n",
       "      <td>22831</td>\n",
       "      <td>0.02816</td>\n",
       "      <td>0.01371</td>\n",
       "      <td>0.00767</td>\n",
       "      <td>0.03679</td>\n",
       "      <td>0.01380</td>\n",
       "      <td>...</td>\n",
       "      <td>0.00604</td>\n",
       "      <td>0.01494</td>\n",
       "      <td>0.01734</td>\n",
       "      <td>0.04148</td>\n",
       "      <td>0.02483</td>\n",
       "      <td>0.03359</td>\n",
       "      <td>0.03679</td>\n",
       "      <td>0.00000</td>\n",
       "      <td>0.00044</td>\n",
       "      <td>0.00131</td>\n",
       "    </tr>\n",
       "    <tr>\n",
       "      <th>...</th>\n",
       "      <td>...</td>\n",
       "      <td>...</td>\n",
       "      <td>...</td>\n",
       "      <td>...</td>\n",
       "      <td>...</td>\n",
       "      <td>...</td>\n",
       "      <td>...</td>\n",
       "      <td>...</td>\n",
       "      <td>...</td>\n",
       "      <td>...</td>\n",
       "      <td>...</td>\n",
       "      <td>...</td>\n",
       "      <td>...</td>\n",
       "      <td>...</td>\n",
       "      <td>...</td>\n",
       "      <td>...</td>\n",
       "      <td>...</td>\n",
       "      <td>...</td>\n",
       "      <td>...</td>\n",
       "      <td>...</td>\n",
       "      <td>...</td>\n",
       "    </tr>\n",
       "    <tr>\n",
       "      <th>12957</th>\n",
       "      <td>12957</td>\n",
       "      <td>2</td>\n",
       "      <td>0</td>\n",
       "      <td>9601</td>\n",
       "      <td>1097</td>\n",
       "      <td>0.02552</td>\n",
       "      <td>0.03555</td>\n",
       "      <td>0.00547</td>\n",
       "      <td>0.01367</td>\n",
       "      <td>0.01276</td>\n",
       "      <td>...</td>\n",
       "      <td>0.00820</td>\n",
       "      <td>0.01367</td>\n",
       "      <td>0.01094</td>\n",
       "      <td>0.01367</td>\n",
       "      <td>0.02279</td>\n",
       "      <td>0.02005</td>\n",
       "      <td>0.04102</td>\n",
       "      <td>0.00091</td>\n",
       "      <td>0.00091</td>\n",
       "      <td>0.00638</td>\n",
       "    </tr>\n",
       "    <tr>\n",
       "      <th>12958</th>\n",
       "      <td>12958</td>\n",
       "      <td>2</td>\n",
       "      <td>1</td>\n",
       "      <td>9601</td>\n",
       "      <td>2067</td>\n",
       "      <td>0.01258</td>\n",
       "      <td>0.03193</td>\n",
       "      <td>0.01984</td>\n",
       "      <td>0.00629</td>\n",
       "      <td>0.01451</td>\n",
       "      <td>...</td>\n",
       "      <td>0.00145</td>\n",
       "      <td>0.00000</td>\n",
       "      <td>0.00048</td>\n",
       "      <td>0.00194</td>\n",
       "      <td>0.01306</td>\n",
       "      <td>0.01838</td>\n",
       "      <td>0.00677</td>\n",
       "      <td>0.00242</td>\n",
       "      <td>0.00097</td>\n",
       "      <td>0.01887</td>\n",
       "    </tr>\n",
       "    <tr>\n",
       "      <th>12959</th>\n",
       "      <td>12959</td>\n",
       "      <td>2</td>\n",
       "      <td>1</td>\n",
       "      <td>9602</td>\n",
       "      <td>1686</td>\n",
       "      <td>0.01423</td>\n",
       "      <td>0.03321</td>\n",
       "      <td>0.01661</td>\n",
       "      <td>0.00356</td>\n",
       "      <td>0.01127</td>\n",
       "      <td>...</td>\n",
       "      <td>0.00000</td>\n",
       "      <td>0.00000</td>\n",
       "      <td>0.00000</td>\n",
       "      <td>0.00178</td>\n",
       "      <td>0.01661</td>\n",
       "      <td>0.02788</td>\n",
       "      <td>0.00297</td>\n",
       "      <td>0.00356</td>\n",
       "      <td>0.00119</td>\n",
       "      <td>0.02017</td>\n",
       "    </tr>\n",
       "    <tr>\n",
       "      <th>12960</th>\n",
       "      <td>12960</td>\n",
       "      <td>2</td>\n",
       "      <td>0</td>\n",
       "      <td>9606</td>\n",
       "      <td>40662582</td>\n",
       "      <td>0.01757</td>\n",
       "      <td>0.02028</td>\n",
       "      <td>0.00767</td>\n",
       "      <td>0.01293</td>\n",
       "      <td>0.01319</td>\n",
       "      <td>...</td>\n",
       "      <td>0.01142</td>\n",
       "      <td>0.01217</td>\n",
       "      <td>0.01196</td>\n",
       "      <td>0.02178</td>\n",
       "      <td>0.02510</td>\n",
       "      <td>0.02896</td>\n",
       "      <td>0.03959</td>\n",
       "      <td>0.00099</td>\n",
       "      <td>0.00079</td>\n",
       "      <td>0.00156</td>\n",
       "    </tr>\n",
       "    <tr>\n",
       "      <th>12961</th>\n",
       "      <td>12961</td>\n",
       "      <td>2</td>\n",
       "      <td>1</td>\n",
       "      <td>9606</td>\n",
       "      <td>8998998</td>\n",
       "      <td>0.01778</td>\n",
       "      <td>0.03724</td>\n",
       "      <td>0.01732</td>\n",
       "      <td>0.00600</td>\n",
       "      <td>0.01689</td>\n",
       "      <td>...</td>\n",
       "      <td>0.00083</td>\n",
       "      <td>0.00041</td>\n",
       "      <td>0.00041</td>\n",
       "      <td>0.00451</td>\n",
       "      <td>0.01402</td>\n",
       "      <td>0.01651</td>\n",
       "      <td>0.00783</td>\n",
       "      <td>0.00156</td>\n",
       "      <td>0.00114</td>\n",
       "      <td>0.02161</td>\n",
       "    </tr>\n",
       "  </tbody>\n",
       "</table>\n",
       "<p>12962 rows × 69 columns</p>\n",
       "</div>"
      ],
      "text/plain": [
       "       Unnamed: 0  Kingdom  DNAtype  SpeciesID   Ncodons      UUU      UUC  \\\n",
       "0               0        4        0     100217      1995  0.01654  0.01203   \n",
       "1               1        4        0     100220      1474  0.02714  0.01357   \n",
       "2               2        4        0     100755      4862  0.01974  0.02180   \n",
       "3               3        4        0     100880      1915  0.01775  0.02245   \n",
       "4               4        4        0     100887     22831  0.02816  0.01371   \n",
       "...           ...      ...      ...        ...       ...      ...      ...   \n",
       "12957       12957        2        0       9601      1097  0.02552  0.03555   \n",
       "12958       12958        2        1       9601      2067  0.01258  0.03193   \n",
       "12959       12959        2        1       9602      1686  0.01423  0.03321   \n",
       "12960       12960        2        0       9606  40662582  0.01757  0.02028   \n",
       "12961       12961        2        1       9606   8998998  0.01778  0.03724   \n",
       "\n",
       "           UUA      UUG      CUU  ...      CGG      AGA      AGG      GAU  \\\n",
       "0      0.00050  0.00351  0.01203  ...  0.00451  0.01303  0.03559  0.01003   \n",
       "1      0.00068  0.00678  0.00407  ...  0.00136  0.01696  0.03596  0.01221   \n",
       "2      0.01357  0.01543  0.00782  ...  0.00596  0.01974  0.02489  0.03126   \n",
       "3      0.01619  0.00992  0.01567  ...  0.00366  0.01410  0.01671  0.03760   \n",
       "4      0.00767  0.03679  0.01380  ...  0.00604  0.01494  0.01734  0.04148   \n",
       "...        ...      ...      ...  ...      ...      ...      ...      ...   \n",
       "12957  0.00547  0.01367  0.01276  ...  0.00820  0.01367  0.01094  0.01367   \n",
       "12958  0.01984  0.00629  0.01451  ...  0.00145  0.00000  0.00048  0.00194   \n",
       "12959  0.01661  0.00356  0.01127  ...  0.00000  0.00000  0.00000  0.00178   \n",
       "12960  0.00767  0.01293  0.01319  ...  0.01142  0.01217  0.01196  0.02178   \n",
       "12961  0.01732  0.00600  0.01689  ...  0.00083  0.00041  0.00041  0.00451   \n",
       "\n",
       "           GAC      GAA      GAG      UAA      UAG      UGA  \n",
       "0      0.04612  0.01203  0.04361  0.00251  0.00050  0.00000  \n",
       "1      0.04545  0.01560  0.04410  0.00271  0.00068  0.00000  \n",
       "2      0.02036  0.02242  0.02468  0.00391  0.00000  0.00144  \n",
       "3      0.01932  0.03029  0.03446  0.00261  0.00157  0.00000  \n",
       "4      0.02483  0.03359  0.03679  0.00000  0.00044  0.00131  \n",
       "...        ...      ...      ...      ...      ...      ...  \n",
       "12957  0.02279  0.02005  0.04102  0.00091  0.00091  0.00638  \n",
       "12958  0.01306  0.01838  0.00677  0.00242  0.00097  0.01887  \n",
       "12959  0.01661  0.02788  0.00297  0.00356  0.00119  0.02017  \n",
       "12960  0.02510  0.02896  0.03959  0.00099  0.00079  0.00156  \n",
       "12961  0.01402  0.01651  0.00783  0.00156  0.00114  0.02161  \n",
       "\n",
       "[12962 rows x 69 columns]"
      ]
     },
     "execution_count": 2,
     "metadata": {},
     "output_type": "execute_result"
    }
   ],
   "source": [
    "dna_df = pd.read_csv(\"cleaned_codon_usage.csv\")\n",
    "dna_df"
   ]
  },
  {
   "cell_type": "markdown",
   "id": "d13e058b",
   "metadata": {},
   "source": [
    "## Normalization:"
   ]
  },
  {
   "cell_type": "code",
   "execution_count": 3,
   "id": "4729854b",
   "metadata": {},
   "outputs": [
    {
     "data": {
      "text/plain": [
       "array([[0.00000000e+00, 1.00000000e+00, 2.15340051e-01, ...,\n",
       "        5.55309735e-02, 1.95236236e-02, 0.00000000e+00],\n",
       "       [7.71545405e-05, 1.00000000e+00, 2.15346497e-01, ...,\n",
       "        5.99557522e-02, 2.65521281e-02, 0.00000000e+00],\n",
       "       [1.54309081e-04, 1.00000000e+00, 2.16496152e-01, ...,\n",
       "        8.65044248e-02, 0.00000000e+00, 1.34957826e-02],\n",
       "       ...,\n",
       "       [9.99845691e-01, 5.00000000e-01, 2.06185789e-02, ...,\n",
       "        7.87610619e-02, 4.64662241e-02, 1.89034677e-01],\n",
       "       [9.99922845e-01, 5.00000000e-01, 2.06271744e-02, ...,\n",
       "        2.19026549e-02, 3.08473253e-02, 1.46204311e-02],\n",
       "       [1.00000000e+00, 5.00000000e-01, 2.06271744e-02, ...,\n",
       "        3.45132743e-02, 4.45138618e-02, 2.02530459e-01]])"
      ]
     },
     "execution_count": 3,
     "metadata": {},
     "output_type": "execute_result"
    }
   ],
   "source": [
    "from sklearn.preprocessing import MinMaxScaler\n",
    "y = dna_df['DNAtype']\n",
    "x = dna_df.drop(columns=['DNAtype'])\n",
    "scaler = MinMaxScaler( )\n",
    "x_scaled = scaler.fit_transform(x)\n",
    "x_scaled"
   ]
  },
  {
   "cell_type": "markdown",
   "id": "b00f7b28",
   "metadata": {},
   "source": [
    "## PCA:"
   ]
  },
  {
   "cell_type": "code",
   "execution_count": 4,
   "id": "4de9c042",
   "metadata": {},
   "outputs": [
    {
     "data": {
      "text/plain": [
       "array([0.26850814, 0.21053032, 0.09959754, 0.0780728 , 0.04048468,\n",
       "       0.0332513 , 0.0250919 , 0.02393919, 0.01671466, 0.01449619])"
      ]
     },
     "execution_count": 4,
     "metadata": {},
     "output_type": "execute_result"
    }
   ],
   "source": [
    "from sklearn.decomposition import PCA\n",
    "pca = PCA(n_components = 10)  \n",
    "x_scaled = pca.fit_transform(x_scaled) \n",
    "pca.explained_variance_ratio_"
   ]
  },
  {
   "cell_type": "code",
   "execution_count": 5,
   "id": "d4f3e25c",
   "metadata": {},
   "outputs": [
    {
     "data": {
      "text/plain": [
       "Text(0.5, 1.0, 'Principal component V.S. Percentage of variance explained')"
      ]
     },
     "execution_count": 5,
     "metadata": {},
     "output_type": "execute_result"
    },
    {
     "data": {
      "image/png": "[encoded data removed]",
      "text/plain": [
       "<Figure size 640x480 with 1 Axes>"
      ]
     },
     "metadata": {},
     "output_type": "display_data"
    }
   ],
   "source": [
    "from sklearn.model_selection import train_test_split\n",
    "import matplotlib.pyplot as plt\n",
    "plt.plot(range(1,11),pca.explained_variance_ratio_)\n",
    "plt.xlabel('Principal Component')\n",
    "plt.ylabel('Percentage of variance explained')\n",
    "plt.title('Principal component V.S. Percentage of variance explained')"
   ]
  },
  {
   "cell_type": "markdown",
   "id": "cf5b32dc",
   "metadata": {},
   "source": [
    "## Data split:"
   ]
  },
  {
   "cell_type": "code",
   "execution_count": 6,
   "id": "8a2fbddf",
   "metadata": {},
   "outputs": [
    {
     "name": "stdout",
     "output_type": "stream",
     "text": [
      "(10369, 10) (2593, 10) (10369,) (2593,)\n"
     ]
    }
   ],
   "source": [
    "x_train, x_test, y_train, y_test = train_test_split(x_scaled, y, test_size=0.20)\n",
    "print(x_train.shape, x_test.shape, y_train.shape, y_test.shape)"
   ]
  },
  {
   "cell_type": "markdown",
   "id": "dbd42f1f",
   "metadata": {},
   "source": [
    "## Cross validation:"
   ]
  },
  {
   "cell_type": "code",
   "execution_count": 9,
   "id": "3b50a36c",
   "metadata": {},
   "outputs": [
    {
     "name": "stdout",
     "output_type": "stream",
     "text": [
      "Fitting 5 folds for each of 30 candidates, totalling 150 fits\n",
      "Best params:  {'max_features': 9}\n",
      "Best scores:  0.9810975107701025\n"
     ]
    }
   ],
   "source": [
    "from sklearn import tree\n",
    "from sklearn.model_selection import GridSearchCV\n",
    "\n",
    "default_params = {} # splitter{“best”, “random”}, default=”best”\n",
    "tree_model = tree.DecisionTreeClassifier(**default_params)\n",
    "cv_params = {\"max_features\":  np.linspace(1, 30, 30, dtype=int)}\n",
    "cv = GridSearchCV(tree_model, cv_params, verbose=2, refit=True, cv=5, n_jobs=-1)\n",
    "cv.fit(x_train,y_train) \n",
    "\n",
    "print('Best params: ', cv.best_params_)\n",
    "print('Best scores: ', cv.best_score_)"
   ]
  },
  {
   "cell_type": "markdown",
   "id": "54b6c760",
   "metadata": {},
   "source": [
    "## Best model:"
   ]
  },
  {
   "cell_type": "code",
   "execution_count": 10,
   "id": "fa0888cf",
   "metadata": {},
   "outputs": [
    {
     "data": {
      "text/plain": [
       "array([0, 2, 0, ..., 0, 0, 1], dtype=int64)"
      ]
     },
     "execution_count": 10,
     "metadata": {},
     "output_type": "execute_result"
    }
   ],
   "source": [
    "best_params = {'max_features':9}\n",
    "best_model = tree.DecisionTreeClassifier(**best_params)\n",
    "best_model.fit(x_train,y_train)\n",
    "y_pred1=best_model.predict(x_test)\n",
    "y_pred1"
   ]
  },
  {
   "cell_type": "code",
   "execution_count": 11,
   "id": "13aa1a4a",
   "metadata": {},
   "outputs": [
    {
     "name": "stdout",
     "output_type": "stream",
     "text": [
      "accuracy_score:  0.9814886232163517\n",
      "precision_score:  0.9814886232163517\n",
      "recall_score:  0.9814886232163517\n",
      "f1_score:  0.9814886232163517\n"
     ]
    }
   ],
   "source": [
    "from sklearn.metrics import accuracy_score, precision_score, recall_score, f1_score\n",
    "accuracy = accuracy_score(y_test, y_pred1)\n",
    "precision = precision_score(y_test, y_pred1, average='micro')\n",
    "recall = recall_score(y_test, y_pred1, average='micro')\n",
    "f1 = f1_score(y_test, y_pred1, average='micro')\n",
    "\n",
    "print('accuracy_score: ',accuracy)\n",
    "print('precision_score: ',precision)\n",
    "print('recall_score: ',recall)\n",
    "print('f1_score: ',f1)"
   ]
  },
  {
   "cell_type": "code",
   "execution_count": 12,
   "id": "a8babf2f",
   "metadata": {},
   "outputs": [
    {
     "name": "stdout",
     "output_type": "stream",
     "text": [
      "Confusion matrix :\n",
      " [[1844    5   15]\n",
      " [   7  549    8]\n",
      " [   9    4  152]]\n",
      "\n",
      "Classification report :\n",
      "               precision    recall  f1-score   support\n",
      "\n",
      "           0       0.99      0.99      0.99      1864\n",
      "           1       0.98      0.97      0.98       564\n",
      "           2       0.87      0.92      0.89       165\n",
      "\n",
      "    accuracy                           0.98      2593\n",
      "   macro avg       0.95      0.96      0.95      2593\n",
      "weighted avg       0.98      0.98      0.98      2593\n",
      "\n"
     ]
    }
   ],
   "source": [
    "from sklearn.metrics import confusion_matrix, classification_report\n",
    "print('Confusion matrix :\\n {0}\\n'.format(confusion_matrix(y_test, y_pred1)))\n",
    "print('Classification report :\\n {0}'.format(classification_report(y_test, y_pred1)))"
   ]
  },
  {
   "cell_type": "code",
   "execution_count": null,
   "id": "e958c2ee",
   "metadata": {},
   "outputs": [],
   "source": []
  }
 ],
 "metadata": {
  "kernelspec": {
   "display_name": "Python 3 (ipykernel)",
   "language": "python",
   "name": "python3"
  },
  "language_info": {
   "codemirror_mode": {
    "name": "ipython",
    "version": 3
   },
   "file_extension": ".py",
   "mimetype": "text/x-python",
   "name": "python",
   "nbconvert_exporter": "python",
   "pygments_lexer": "ipython3",
   "version": "3.9.13"
  }
 },
 "nbformat": 4,
 "nbformat_minor": 5
}
